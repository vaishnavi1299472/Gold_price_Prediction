{
  "cells": [
    {
      "cell_type": "markdown",
      "metadata": {
        "id": "LBz-OMKbUCRD"
      },
      "source": [
        ":                                                        **FORECASTING OF GOLD PREDICTION PRICE USING AI**"
      ]
    },
    {
      "cell_type": "markdown",
      "metadata": {
        "id": "L8Dy7bp8XVn6"
      },
      "source": [
        "import all libraries used"
      ]
    },
    {
      "cell_type": "code",
      "execution_count": null,
      "metadata": {
        "id": "bkCI1310mKaG",
        "outputId": "eb5fdd6a-a9cd-477c-8844-288ac0475611"
      },
      "outputs": [
        {
          "name": "stdout",
          "output_type": "stream",
          "text": [
            "Requirement already satisfied: numpy in c:\\users\\vaish\\appdata\\local\\programs\\python\\python312\\lib\\site-packages (1.26.4)\n",
            "Note: you may need to restart the kernel to use updated packages.\n"
          ]
        }
      ],
      "source": [
        "pip install numpy"
      ]
    },
    {
      "cell_type": "code",
      "execution_count": null,
      "metadata": {
        "id": "ma1uARN-mKaH",
        "outputId": "098612e4-b8c8-44ae-9533-eb98d7af526e"
      },
      "outputs": [
        {
          "name": "stdout",
          "output_type": "stream",
          "text": [
            "Requirement already satisfied: seaborn in c:\\users\\vaish\\appdata\\local\\programs\\python\\python312\\lib\\site-packages (0.13.2)\n",
            "Requirement already satisfied: numpy!=1.24.0,>=1.20 in c:\\users\\vaish\\appdata\\local\\programs\\python\\python312\\lib\\site-packages (from seaborn) (1.26.4)\n",
            "Requirement already satisfied: pandas>=1.2 in c:\\users\\vaish\\appdata\\local\\programs\\python\\python312\\lib\\site-packages (from seaborn) (2.2.2)\n",
            "Requirement already satisfied: matplotlib!=3.6.1,>=3.4 in c:\\users\\vaish\\appdata\\local\\programs\\python\\python312\\lib\\site-packages (from seaborn) (3.8.4)\n",
            "Requirement already satisfied: contourpy>=1.0.1 in c:\\users\\vaish\\appdata\\local\\programs\\python\\python312\\lib\\site-packages (from matplotlib!=3.6.1,>=3.4->seaborn) (1.2.1)\n",
            "Requirement already satisfied: cycler>=0.10 in c:\\users\\vaish\\appdata\\local\\programs\\python\\python312\\lib\\site-packages (from matplotlib!=3.6.1,>=3.4->seaborn) (0.12.1)\n",
            "Requirement already satisfied: fonttools>=4.22.0 in c:\\users\\vaish\\appdata\\local\\programs\\python\\python312\\lib\\site-packages (from matplotlib!=3.6.1,>=3.4->seaborn) (4.51.0)\n",
            "Requirement already satisfied: kiwisolver>=1.3.1 in c:\\users\\vaish\\appdata\\local\\programs\\python\\python312\\lib\\site-packages (from matplotlib!=3.6.1,>=3.4->seaborn) (1.4.5)\n",
            "Requirement already satisfied: packaging>=20.0 in c:\\users\\vaish\\appdata\\local\\programs\\python\\python312\\lib\\site-packages (from matplotlib!=3.6.1,>=3.4->seaborn) (24.0)\n",
            "Requirement already satisfied: pillow>=8 in c:\\users\\vaish\\appdata\\local\\programs\\python\\python312\\lib\\site-packages (from matplotlib!=3.6.1,>=3.4->seaborn) (10.3.0)\n",
            "Requirement already satisfied: pyparsing>=2.3.1 in c:\\users\\vaish\\appdata\\local\\programs\\python\\python312\\lib\\site-packages (from matplotlib!=3.6.1,>=3.4->seaborn) (3.1.2)\n",
            "Requirement already satisfied: python-dateutil>=2.7 in c:\\users\\vaish\\appdata\\local\\programs\\python\\python312\\lib\\site-packages (from matplotlib!=3.6.1,>=3.4->seaborn) (2.9.0.post0)\n",
            "Requirement already satisfied: pytz>=2020.1 in c:\\users\\vaish\\appdata\\local\\programs\\python\\python312\\lib\\site-packages (from pandas>=1.2->seaborn) (2024.1)\n",
            "Requirement already satisfied: tzdata>=2022.7 in c:\\users\\vaish\\appdata\\local\\programs\\python\\python312\\lib\\site-packages (from pandas>=1.2->seaborn) (2024.1)\n",
            "Requirement already satisfied: six>=1.5 in c:\\users\\vaish\\appdata\\local\\programs\\python\\python312\\lib\\site-packages (from python-dateutil>=2.7->matplotlib!=3.6.1,>=3.4->seaborn) (1.16.0)\n"
          ]
        }
      ],
      "source": [
        "!pip install seaborn\n"
      ]
    },
    {
      "cell_type": "code",
      "execution_count": null,
      "metadata": {
        "id": "UuziAXLQmKaI",
        "outputId": "bb12453f-420d-45e7-a3da-d8b61dde00e3"
      },
      "outputs": [
        {
          "name": "stdout",
          "output_type": "stream",
          "text": [
            "Requirement already satisfied: matplotlib in c:\\users\\vaish\\appdata\\local\\programs\\python\\python312\\lib\\site-packages (3.8.4)\n",
            "Requirement already satisfied: contourpy>=1.0.1 in c:\\users\\vaish\\appdata\\local\\programs\\python\\python312\\lib\\site-packages (from matplotlib) (1.2.1)\n",
            "Requirement already satisfied: cycler>=0.10 in c:\\users\\vaish\\appdata\\local\\programs\\python\\python312\\lib\\site-packages (from matplotlib) (0.12.1)\n",
            "Requirement already satisfied: fonttools>=4.22.0 in c:\\users\\vaish\\appdata\\local\\programs\\python\\python312\\lib\\site-packages (from matplotlib) (4.51.0)\n",
            "Requirement already satisfied: kiwisolver>=1.3.1 in c:\\users\\vaish\\appdata\\local\\programs\\python\\python312\\lib\\site-packages (from matplotlib) (1.4.5)\n",
            "Requirement already satisfied: numpy>=1.21 in c:\\users\\vaish\\appdata\\local\\programs\\python\\python312\\lib\\site-packages (from matplotlib) (1.26.4)\n",
            "Requirement already satisfied: packaging>=20.0 in c:\\users\\vaish\\appdata\\local\\programs\\python\\python312\\lib\\site-packages (from matplotlib) (24.0)\n",
            "Requirement already satisfied: pillow>=8 in c:\\users\\vaish\\appdata\\local\\programs\\python\\python312\\lib\\site-packages (from matplotlib) (10.3.0)\n",
            "Requirement already satisfied: pyparsing>=2.3.1 in c:\\users\\vaish\\appdata\\local\\programs\\python\\python312\\lib\\site-packages (from matplotlib) (3.1.2)\n",
            "Requirement already satisfied: python-dateutil>=2.7 in c:\\users\\vaish\\appdata\\local\\programs\\python\\python312\\lib\\site-packages (from matplotlib) (2.9.0.post0)\n",
            "Requirement already satisfied: six>=1.5 in c:\\users\\vaish\\appdata\\local\\programs\\python\\python312\\lib\\site-packages (from python-dateutil>=2.7->matplotlib) (1.16.0)\n"
          ]
        }
      ],
      "source": [
        "!pip install matplotlib\n"
      ]
    },
    {
      "cell_type": "code",
      "execution_count": null,
      "metadata": {
        "id": "2f1Ttt_qmKaI",
        "outputId": "e5064692-870c-417f-97ba-6e31db615861"
      },
      "outputs": [
        {
          "name": "stdout",
          "output_type": "stream",
          "text": [
            "Requirement already satisfied: pandas in c:\\users\\vaish\\appdata\\local\\programs\\python\\python312\\lib\\site-packages (2.2.2)\n",
            "Requirement already satisfied: numpy>=1.26.0 in c:\\users\\vaish\\appdata\\local\\programs\\python\\python312\\lib\\site-packages (from pandas) (1.26.4)\n",
            "Requirement already satisfied: python-dateutil>=2.8.2 in c:\\users\\vaish\\appdata\\local\\programs\\python\\python312\\lib\\site-packages (from pandas) (2.9.0.post0)\n",
            "Requirement already satisfied: pytz>=2020.1 in c:\\users\\vaish\\appdata\\local\\programs\\python\\python312\\lib\\site-packages (from pandas) (2024.1)\n",
            "Requirement already satisfied: tzdata>=2022.7 in c:\\users\\vaish\\appdata\\local\\programs\\python\\python312\\lib\\site-packages (from pandas) (2024.1)\n",
            "Requirement already satisfied: six>=1.5 in c:\\users\\vaish\\appdata\\local\\programs\\python\\python312\\lib\\site-packages (from python-dateutil>=2.8.2->pandas) (1.16.0)\n",
            "Note: you may need to restart the kernel to use updated packages.\n"
          ]
        }
      ],
      "source": [
        "pip install pandas"
      ]
    },
    {
      "cell_type": "code",
      "execution_count": null,
      "metadata": {
        "id": "NlHNWUi-mKaI",
        "outputId": "f0e03c46-8c64-4742-eb91-64bb21330004"
      },
      "outputs": [
        {
          "name": "stdout",
          "output_type": "stream",
          "text": [
            "Requirement already satisfied: scikit-learn in c:\\users\\vaish\\appdata\\local\\programs\\python\\python312\\lib\\site-packages (1.4.2)\n",
            "Requirement already satisfied: numpy>=1.19.5 in c:\\users\\vaish\\appdata\\local\\programs\\python\\python312\\lib\\site-packages (from scikit-learn) (1.26.4)\n",
            "Requirement already satisfied: scipy>=1.6.0 in c:\\users\\vaish\\appdata\\local\\programs\\python\\python312\\lib\\site-packages (from scikit-learn) (1.13.0)\n",
            "Requirement already satisfied: joblib>=1.2.0 in c:\\users\\vaish\\appdata\\local\\programs\\python\\python312\\lib\\site-packages (from scikit-learn) (1.4.0)\n",
            "Requirement already satisfied: threadpoolctl>=2.0.0 in c:\\users\\vaish\\appdata\\local\\programs\\python\\python312\\lib\\site-packages (from scikit-learn) (3.5.0)\n",
            "Note: you may need to restart the kernel to use updated packages.\n"
          ]
        }
      ],
      "source": [
        "pip install scikit-learn\n"
      ]
    },
    {
      "cell_type": "code",
      "execution_count": null,
      "metadata": {
        "id": "zbmM-w_FUBGB"
      },
      "outputs": [],
      "source": [
        "#import all libraries\n",
        "import numpy as np\n",
        "import pandas as pd\n",
        "#%matplotlib inline\n",
        "import matplotlib.pyplot as plt\n",
        "import seaborn as sns\n",
        "from sklearn.preprocessing import StandardScaler\n",
        "from sklearn.model_selection import train_test_split\n",
        "from sklearn.linear_model import LinearRegression\n",
        "from sklearn.ensemble import RandomForestRegressor\n",
        "from sklearn import metrics\n"
      ]
    },
    {
      "cell_type": "code",
      "execution_count": null,
      "metadata": {
        "id": "Knx7zscXXU0-"
      },
      "outputs": [],
      "source": [
        "#upload the dataset\n",
        "df = pd.read_csv('Untitled spreadsheet - Untitled spreadsheet - final_dataset - gld_price_data - Untitled spreadsheet - Untitled spreadsheet - final_dataset - gld_price_data.csv')"
      ]
    },
    {
      "cell_type": "code",
      "execution_count": null,
      "metadata": {
        "colab": {
          "base_uri": "https://localhost:8080/",
          "height": 206
        },
        "id": "4_Ls4NQMdAUF",
        "outputId": "9c07e540-6ed4-46f0-93ab-76aeba289382"
      },
      "outputs": [
        {
          "data": {
            "text/html": [
              "<div>\n",
              "<style scoped>\n",
              "    .dataframe tbody tr th:only-of-type {\n",
              "        vertical-align: middle;\n",
              "    }\n",
              "\n",
              "    .dataframe tbody tr th {\n",
              "        vertical-align: top;\n",
              "    }\n",
              "\n",
              "    .dataframe thead th {\n",
              "        text-align: right;\n",
              "    }\n",
              "</style>\n",
              "<table border=\"1\" class=\"dataframe\">\n",
              "  <thead>\n",
              "    <tr style=\"text-align: right;\">\n",
              "      <th></th>\n",
              "      <th>Date</th>\n",
              "      <th>SPX</th>\n",
              "      <th>GLD</th>\n",
              "      <th>USO</th>\n",
              "      <th>SLV</th>\n",
              "      <th>EUR/USD</th>\n",
              "    </tr>\n",
              "  </thead>\n",
              "  <tbody>\n",
              "    <tr>\n",
              "      <th>0</th>\n",
              "      <td>1/2/2013</td>\n",
              "      <td>1447.160034</td>\n",
              "      <td>84.860001</td>\n",
              "      <td>78.470001</td>\n",
              "      <td>15.180</td>\n",
              "      <td>1.471692</td>\n",
              "    </tr>\n",
              "    <tr>\n",
              "      <th>1</th>\n",
              "      <td>1/3/2013</td>\n",
              "      <td>1447.160034</td>\n",
              "      <td>85.570000</td>\n",
              "      <td>78.370003</td>\n",
              "      <td>15.285</td>\n",
              "      <td>1.474491</td>\n",
              "    </tr>\n",
              "    <tr>\n",
              "      <th>2</th>\n",
              "      <td>1/4/2013</td>\n",
              "      <td>1411.630005</td>\n",
              "      <td>85.129997</td>\n",
              "      <td>77.309998</td>\n",
              "      <td>15.167</td>\n",
              "      <td>1.475492</td>\n",
              "    </tr>\n",
              "    <tr>\n",
              "      <th>3</th>\n",
              "      <td>1/7/2013</td>\n",
              "      <td>1416.180054</td>\n",
              "      <td>84.769997</td>\n",
              "      <td>75.500000</td>\n",
              "      <td>15.053</td>\n",
              "      <td>1.468299</td>\n",
              "    </tr>\n",
              "    <tr>\n",
              "      <th>4</th>\n",
              "      <td>1/8/2013</td>\n",
              "      <td>1390.189941</td>\n",
              "      <td>86.779999</td>\n",
              "      <td>76.059998</td>\n",
              "      <td>15.590</td>\n",
              "      <td>1.557099</td>\n",
              "    </tr>\n",
              "  </tbody>\n",
              "</table>\n",
              "</div>"
            ],
            "text/plain": [
              "       Date          SPX        GLD        USO     SLV   EUR/USD\n",
              "0  1/2/2013  1447.160034  84.860001  78.470001  15.180  1.471692\n",
              "1  1/3/2013  1447.160034  85.570000  78.370003  15.285  1.474491\n",
              "2  1/4/2013  1411.630005  85.129997  77.309998  15.167  1.475492\n",
              "3  1/7/2013  1416.180054  84.769997  75.500000  15.053  1.468299\n",
              "4  1/8/2013  1390.189941  86.779999  76.059998  15.590  1.557099"
            ]
          },
          "execution_count": 8,
          "metadata": {},
          "output_type": "execute_result"
        }
      ],
      "source": [
        "#print 5 rows of the dataset\n",
        "df.head()"
      ]
    },
    {
      "cell_type": "code",
      "execution_count": null,
      "metadata": {
        "colab": {
          "base_uri": "https://localhost:8080/",
          "height": 206
        },
        "id": "qnQORX10dOHh",
        "outputId": "bf6a3b7d-7a89-46b4-d803-502e8882f8b5"
      },
      "outputs": [
        {
          "data": {
            "text/html": [
              "<div>\n",
              "<style scoped>\n",
              "    .dataframe tbody tr th:only-of-type {\n",
              "        vertical-align: middle;\n",
              "    }\n",
              "\n",
              "    .dataframe tbody tr th {\n",
              "        vertical-align: top;\n",
              "    }\n",
              "\n",
              "    .dataframe thead th {\n",
              "        text-align: right;\n",
              "    }\n",
              "</style>\n",
              "<table border=\"1\" class=\"dataframe\">\n",
              "  <thead>\n",
              "    <tr style=\"text-align: right;\">\n",
              "      <th></th>\n",
              "      <th>Date</th>\n",
              "      <th>SPX</th>\n",
              "      <th>GLD</th>\n",
              "      <th>USO</th>\n",
              "      <th>SLV</th>\n",
              "      <th>EUR/USD</th>\n",
              "    </tr>\n",
              "  </thead>\n",
              "  <tbody>\n",
              "    <tr>\n",
              "      <th>2285</th>\n",
              "      <td>5/8/2023</td>\n",
              "      <td>2671.919922</td>\n",
              "      <td>124.589996</td>\n",
              "      <td>14.0600</td>\n",
              "      <td>15.5100</td>\n",
              "      <td>1.186789</td>\n",
              "    </tr>\n",
              "    <tr>\n",
              "      <th>2286</th>\n",
              "      <td>5/9/2023</td>\n",
              "      <td>2697.790039</td>\n",
              "      <td>124.330002</td>\n",
              "      <td>14.3700</td>\n",
              "      <td>15.5300</td>\n",
              "      <td>1.184722</td>\n",
              "    </tr>\n",
              "    <tr>\n",
              "      <th>2287</th>\n",
              "      <td>5/10/2023</td>\n",
              "      <td>2723.070068</td>\n",
              "      <td>125.180000</td>\n",
              "      <td>14.4100</td>\n",
              "      <td>15.7400</td>\n",
              "      <td>1.191753</td>\n",
              "    </tr>\n",
              "    <tr>\n",
              "      <th>2288</th>\n",
              "      <td>5/14/2023</td>\n",
              "      <td>2730.129883</td>\n",
              "      <td>124.489998</td>\n",
              "      <td>14.3800</td>\n",
              "      <td>15.5600</td>\n",
              "      <td>1.193118</td>\n",
              "    </tr>\n",
              "    <tr>\n",
              "      <th>2289</th>\n",
              "      <td>5/16/2023</td>\n",
              "      <td>2725.780029</td>\n",
              "      <td>122.543800</td>\n",
              "      <td>14.4058</td>\n",
              "      <td>15.4542</td>\n",
              "      <td>1.182033</td>\n",
              "    </tr>\n",
              "  </tbody>\n",
              "</table>\n",
              "</div>"
            ],
            "text/plain": [
              "           Date          SPX         GLD      USO      SLV   EUR/USD\n",
              "2285   5/8/2023  2671.919922  124.589996  14.0600  15.5100  1.186789\n",
              "2286   5/9/2023  2697.790039  124.330002  14.3700  15.5300  1.184722\n",
              "2287  5/10/2023  2723.070068  125.180000  14.4100  15.7400  1.191753\n",
              "2288  5/14/2023  2730.129883  124.489998  14.3800  15.5600  1.193118\n",
              "2289  5/16/2023  2725.780029  122.543800  14.4058  15.4542  1.182033"
            ]
          },
          "execution_count": 9,
          "metadata": {},
          "output_type": "execute_result"
        }
      ],
      "source": [
        "#print 5 last rows of the dataset\n",
        "df.tail()"
      ]
    },
    {
      "cell_type": "code",
      "execution_count": null,
      "metadata": {
        "colab": {
          "base_uri": "https://localhost:8080/"
        },
        "id": "m5Vi3EJ5VBdY",
        "outputId": "08bd1436-23a2-4d0c-8ae3-eae8b7d73091"
      },
      "outputs": [
        {
          "data": {
            "text/plain": [
              "Date       0\n",
              "SPX        0\n",
              "GLD        0\n",
              "USO        0\n",
              "SLV        0\n",
              "EUR/USD    0\n",
              "dtype: int64"
            ]
          },
          "execution_count": 10,
          "metadata": {},
          "output_type": "execute_result"
        }
      ],
      "source": [
        "#check for null values\n",
        "df.isnull().sum()"
      ]
    },
    {
      "cell_type": "markdown",
      "metadata": {
        "id": "nAjghdf1cfPk"
      },
      "source": [
        "// data collection and preprocessing"
      ]
    },
    {
      "cell_type": "code",
      "execution_count": null,
      "metadata": {
        "colab": {
          "base_uri": "https://localhost:8080/",
          "height": 300
        },
        "id": "AWuoxtkPVZLF",
        "outputId": "d583c1d4-fa80-4e71-e20c-b44a5109915c"
      },
      "outputs": [
        {
          "data": {
            "text/html": [
              "<div>\n",
              "<style scoped>\n",
              "    .dataframe tbody tr th:only-of-type {\n",
              "        vertical-align: middle;\n",
              "    }\n",
              "\n",
              "    .dataframe tbody tr th {\n",
              "        vertical-align: top;\n",
              "    }\n",
              "\n",
              "    .dataframe thead th {\n",
              "        text-align: right;\n",
              "    }\n",
              "</style>\n",
              "<table border=\"1\" class=\"dataframe\">\n",
              "  <thead>\n",
              "    <tr style=\"text-align: right;\">\n",
              "      <th></th>\n",
              "      <th>SPX</th>\n",
              "      <th>GLD</th>\n",
              "      <th>USO</th>\n",
              "      <th>SLV</th>\n",
              "      <th>EUR/USD</th>\n",
              "    </tr>\n",
              "  </thead>\n",
              "  <tbody>\n",
              "    <tr>\n",
              "      <th>count</th>\n",
              "      <td>2290.000000</td>\n",
              "      <td>2290.000000</td>\n",
              "      <td>2290.000000</td>\n",
              "      <td>2290.000000</td>\n",
              "      <td>2290.000000</td>\n",
              "    </tr>\n",
              "    <tr>\n",
              "      <th>mean</th>\n",
              "      <td>1654.315776</td>\n",
              "      <td>122.732875</td>\n",
              "      <td>31.842221</td>\n",
              "      <td>20.084997</td>\n",
              "      <td>1.283653</td>\n",
              "    </tr>\n",
              "    <tr>\n",
              "      <th>std</th>\n",
              "      <td>519.111540</td>\n",
              "      <td>23.283346</td>\n",
              "      <td>19.523517</td>\n",
              "      <td>7.092566</td>\n",
              "      <td>0.131547</td>\n",
              "    </tr>\n",
              "    <tr>\n",
              "      <th>min</th>\n",
              "      <td>676.530029</td>\n",
              "      <td>70.000000</td>\n",
              "      <td>7.960000</td>\n",
              "      <td>8.850000</td>\n",
              "      <td>1.039047</td>\n",
              "    </tr>\n",
              "    <tr>\n",
              "      <th>25%</th>\n",
              "      <td>1239.874969</td>\n",
              "      <td>109.725000</td>\n",
              "      <td>14.380000</td>\n",
              "      <td>15.570000</td>\n",
              "      <td>1.171313</td>\n",
              "    </tr>\n",
              "    <tr>\n",
              "      <th>50%</th>\n",
              "      <td>1551.434998</td>\n",
              "      <td>120.580002</td>\n",
              "      <td>33.869999</td>\n",
              "      <td>17.268500</td>\n",
              "      <td>1.303297</td>\n",
              "    </tr>\n",
              "    <tr>\n",
              "      <th>75%</th>\n",
              "      <td>2073.010070</td>\n",
              "      <td>132.840004</td>\n",
              "      <td>37.827501</td>\n",
              "      <td>22.882500</td>\n",
              "      <td>1.369971</td>\n",
              "    </tr>\n",
              "    <tr>\n",
              "      <th>max</th>\n",
              "      <td>2872.870117</td>\n",
              "      <td>184.589996</td>\n",
              "      <td>117.480003</td>\n",
              "      <td>47.259998</td>\n",
              "      <td>1.598798</td>\n",
              "    </tr>\n",
              "  </tbody>\n",
              "</table>\n",
              "</div>"
            ],
            "text/plain": [
              "               SPX          GLD          USO          SLV      EUR/USD\n",
              "count  2290.000000  2290.000000  2290.000000  2290.000000  2290.000000\n",
              "mean   1654.315776   122.732875    31.842221    20.084997     1.283653\n",
              "std     519.111540    23.283346    19.523517     7.092566     0.131547\n",
              "min     676.530029    70.000000     7.960000     8.850000     1.039047\n",
              "25%    1239.874969   109.725000    14.380000    15.570000     1.171313\n",
              "50%    1551.434998   120.580002    33.869999    17.268500     1.303297\n",
              "75%    2073.010070   132.840004    37.827501    22.882500     1.369971\n",
              "max    2872.870117   184.589996   117.480003    47.259998     1.598798"
            ]
          },
          "execution_count": 11,
          "metadata": {},
          "output_type": "execute_result"
        }
      ],
      "source": [
        "# describe about the feature of the dataset\n",
        "df.describe()"
      ]
    },
    {
      "cell_type": "code",
      "execution_count": null,
      "metadata": {
        "colab": {
          "base_uri": "https://localhost:8080/"
        },
        "id": "Sc06s4ptev-H",
        "outputId": "6e6e7393-9e8b-4162-ac8a-45b671927aea"
      },
      "outputs": [
        {
          "name": "stdout",
          "output_type": "stream",
          "text": [
            "<class 'pandas.core.frame.DataFrame'>\n",
            "RangeIndex: 2290 entries, 0 to 2289\n",
            "Data columns (total 6 columns):\n",
            " #   Column   Non-Null Count  Dtype  \n",
            "---  ------   --------------  -----  \n",
            " 0   Date     2290 non-null   object \n",
            " 1   SPX      2290 non-null   float64\n",
            " 2   GLD      2290 non-null   float64\n",
            " 3   USO      2290 non-null   float64\n",
            " 4   SLV      2290 non-null   float64\n",
            " 5   EUR/USD  2290 non-null   float64\n",
            "dtypes: float64(5), object(1)\n",
            "memory usage: 107.5+ KB\n"
          ]
        }
      ],
      "source": [
        "df.info()"
      ]
    },
    {
      "cell_type": "code",
      "execution_count": null,
      "metadata": {
        "id": "RLdlnqOjfIvb"
      },
      "outputs": [],
      "source": [
        "df.drop('Date', axis=1, inplace=True)"
      ]
    },
    {
      "cell_type": "code",
      "execution_count": null,
      "metadata": {
        "id": "gZ9vGtYVaqR8"
      },
      "outputs": [],
      "source": [
        "#correlation is a statistical measure that describes the relationship between two variables.\n",
        "#It tells us how much and in what way two variables change together.\n",
        "correlation = df.corr()\n"
      ]
    },
    {
      "cell_type": "markdown",
      "metadata": {
        "id": "hf_FXAXr784s"
      },
      "source": [
        "cbar = True : This parameter is like a switch that you can turn on or off. When set to True, it tells the code that you want to include a color bar alongside the heatmap.\n",
        "\n",
        "annot = True : This parameter, similar to cbar, is like a switch that you can turn on or off. When set to True, it tells the code that you want to include annotations on the heatmap.\n",
        "\n",
        "Annotation :  Annotations are additional text or labels that are added to the plot. In the context of a heatmap, annotations typically mean displaying the actual numerical values within each cell of the heatmap."
      ]
    },
    {
      "cell_type": "code",
      "execution_count": null,
      "metadata": {
        "colab": {
          "base_uri": "https://localhost:8080/",
          "height": 675
        },
        "id": "faPdKJJvbTL8",
        "outputId": "f572f4ca-6409-466d-faeb-be252e58bde5"
      },
      "outputs": [
        {
          "data": {
            "text/plain": [
              "<Axes: >"
            ]
          },
          "execution_count": 15,
          "metadata": {},
          "output_type": "execute_result"
        },
        {
          "data": {
            "image/png": "[encoded data removed]",
            "text/plain": [
              "<Figure size 800x800 with 2 Axes>"
            ]
          },
          "metadata": {},
          "output_type": "display_data"
        }
      ],
      "source": [
        "# constructing a heatmap to understand the correlatiom\n",
        "plt.figure(figsize = (8,8))\n",
        "sns.heatmap(correlation, cbar=True, square=True, fmt='.1f',annot=True, annot_kws={'size':8}, cmap='Blues')"
      ]
    },
    {
      "cell_type": "markdown",
      "metadata": {
        "id": "1iU39t-19N43"
      },
      "source": [
        "positive correlation : Positive correlation is a statistical relationship between two variables where an increase in one variable tends to be associated with an increase in the other variable"
      ]
    },
    {
      "cell_type": "code",
      "execution_count": null,
      "metadata": {
        "colab": {
          "base_uri": "https://localhost:8080/"
        },
        "id": "yQNKSJdP2dm_",
        "outputId": "f4a98e50-f70f-4d7c-aea6-5c3ece4e552d"
      },
      "outputs": [
        {
          "name": "stdout",
          "output_type": "stream",
          "text": [
            "SPX        0.049345\n",
            "GLD        1.000000\n",
            "USO       -0.186360\n",
            "SLV        0.866632\n",
            "EUR/USD   -0.024375\n",
            "Name: GLD, dtype: float64\n"
          ]
        }
      ],
      "source": [
        "print(correlation['GLD'])"
      ]
    },
    {
      "cell_type": "code",
      "execution_count": null,
      "metadata": {
        "id": "KeSnowEx3J5W"
      },
      "outputs": [],
      "source": [
        "X = df.drop(['GLD'],axis=1)\n",
        "Y = df['GLD']"
      ]
    },
    {
      "cell_type": "markdown",
      "metadata": {
        "id": "HiDN9e9HFB39"
      },
      "source": [
        "complexity of the dataset depends on various factor like number of feature , Data Volume, Data Quality, Relationship and pattern\n",
        "\n"
      ]
    },
    {
      "cell_type": "code",
      "execution_count": null,
      "metadata": {
        "colab": {
          "base_uri": "https://localhost:8080/"
        },
        "id": "MpY5ko1U3Q9Y",
        "outputId": "13463a2f-2f89-434f-c539-fb2613904890"
      },
      "outputs": [
        {
          "name": "stdout",
          "output_type": "stream",
          "text": [
            "              SPX        USO      SLV   EUR/USD\n",
            "0     1447.160034  78.470001  15.1800  1.471692\n",
            "1     1447.160034  78.370003  15.2850  1.474491\n",
            "2     1411.630005  77.309998  15.1670  1.475492\n",
            "3     1416.180054  75.500000  15.0530  1.468299\n",
            "4     1390.189941  76.059998  15.5900  1.557099\n",
            "...           ...        ...      ...       ...\n",
            "2285  2671.919922  14.060000  15.5100  1.186789\n",
            "2286  2697.790039  14.370000  15.5300  1.184722\n",
            "2287  2723.070068  14.410000  15.7400  1.191753\n",
            "2288  2730.129883  14.380000  15.5600  1.193118\n",
            "2289  2725.780029  14.405800  15.4542  1.182033\n",
            "\n",
            "[2290 rows x 4 columns]\n"
          ]
        }
      ],
      "source": [
        "print(X)"
      ]
    },
    {
      "cell_type": "code",
      "execution_count": null,
      "metadata": {
        "colab": {
          "base_uri": "https://localhost:8080/"
        },
        "id": "bfYyjl0v3Vkq",
        "outputId": "31b8744a-5951-4356-fc53-f44284c33510"
      },
      "outputs": [
        {
          "name": "stdout",
          "output_type": "stream",
          "text": [
            "0        84.860001\n",
            "1        85.570000\n",
            "2        85.129997\n",
            "3        84.769997\n",
            "4        86.779999\n",
            "           ...    \n",
            "2285    124.589996\n",
            "2286    124.330002\n",
            "2287    125.180000\n",
            "2288    124.489998\n",
            "2289    122.543800\n",
            "Name: GLD, Length: 2290, dtype: float64\n"
          ]
        }
      ],
      "source": [
        "print(Y)"
      ]
    },
    {
      "cell_type": "code",
      "execution_count": null,
      "metadata": {
        "id": "Ef-pGhH63bDc"
      },
      "outputs": [],
      "source": [
        "X_train, X_test, Y_train, Y_test = train_test_split(X, Y, test_size = 0.2, random_state=2)"
      ]
    },
    {
      "cell_type": "code",
      "execution_count": null,
      "metadata": {
        "colab": {
          "base_uri": "https://localhost:8080/"
        },
        "id": "S83Ev5LeBNF8",
        "outputId": "488f3209-61c9-4343-a9d3-c3b8f7d6cb4e"
      },
      "outputs": [
        {
          "name": "stdout",
          "output_type": "stream",
          "text": [
            "[[-0.98462976  0.40800594 -0.45358541  0.58865226]\n",
            " [ 1.06599085 -1.10546089 -0.60775875 -1.69473821]\n",
            " [-1.82781083 -0.38661608 -1.03633275 -0.21860468]\n",
            " ...\n",
            " [-0.70024302  0.3467614   1.03157202  0.55478557]\n",
            " [-0.36162586  0.10334014  1.28475614  0.16734672]\n",
            " [ 0.8530957  -0.69699095 -0.63604747 -1.74527372]]\n"
          ]
        }
      ],
      "source": [
        "scaler = StandardScaler()\n",
        "scaler.fit(X_train)\n",
        "X_train_standardized = scaler.transform(X_train)\n",
        "print(X_train_standardized)"
      ]
    },
    {
      "cell_type": "code",
      "execution_count": null,
      "metadata": {
        "id": "0RCULXT5Co-G"
      },
      "outputs": [],
      "source": [
        "X_test_standardized = scaler.transform(X_test)"
      ]
    },
    {
      "cell_type": "code",
      "execution_count": null,
      "metadata": {
        "id": "FkcWRqWI5xwS"
      },
      "outputs": [],
      "source": [
        "regressor = RandomForestRegressor(n_estimators=100)"
      ]
    },
    {
      "cell_type": "code",
      "execution_count": null,
      "metadata": {
        "colab": {
          "base_uri": "https://localhost:8080/",
          "height": 74
        },
        "id": "_RvPsFy06rOW",
        "outputId": "f530d0eb-73f3-41ba-a0bc-4eb2e145fa5f"
      },
      "outputs": [
        {
          "data": {
            "text/html": [
              "<style>#sk-container-id-1 {\n",
              "  /* Definition of color scheme common for light and dark mode */\n",
              "  --sklearn-color-text: black;\n",
              "  --sklearn-color-line: gray;\n",
              "  /* Definition of color scheme for unfitted estimators */\n",
              "  --sklearn-color-unfitted-level-0: #fff5e6;\n",
              "  --sklearn-color-unfitted-level-1: #f6e4d2;\n",
              "  --sklearn-color-unfitted-level-2: #ffe0b3;\n",
              "  --sklearn-color-unfitted-level-3: chocolate;\n",
              "  /* Definition of color scheme for fitted estimators */\n",
              "  --sklearn-color-fitted-level-0: #f0f8ff;\n",
              "  --sklearn-color-fitted-level-1: #d4ebff;\n",
              "  --sklearn-color-fitted-level-2: #b3dbfd;\n",
              "  --sklearn-color-fitted-level-3: cornflowerblue;\n",
              "\n",
              "  /* Specific color for light theme */\n",
              "  --sklearn-color-text-on-default-background: var(--sg-text-color, var(--theme-code-foreground, var(--jp-content-font-color1, black)));\n",
              "  --sklearn-color-background: var(--sg-background-color, var(--theme-background, var(--jp-layout-color0, white)));\n",
              "  --sklearn-color-border-box: var(--sg-text-color, var(--theme-code-foreground, var(--jp-content-font-color1, black)));\n",
              "  --sklearn-color-icon: #696969;\n",
              "\n",
              "  @media (prefers-color-scheme: dark) {\n",
              "    /* Redefinition of color scheme for dark theme */\n",
              "    --sklearn-color-text-on-default-background: var(--sg-text-color, var(--theme-code-foreground, var(--jp-content-font-color1, white)));\n",
              "    --sklearn-color-background: var(--sg-background-color, var(--theme-background, var(--jp-layout-color0, #111)));\n",
              "    --sklearn-color-border-box: var(--sg-text-color, var(--theme-code-foreground, var(--jp-content-font-color1, white)));\n",
              "    --sklearn-color-icon: #878787;\n",
              "  }\n",
              "}\n",
              "\n",
              "#sk-container-id-1 {\n",
              "  color: var(--sklearn-color-text);\n",
              "}\n",
              "\n",
              "#sk-container-id-1 pre {\n",
              "  padding: 0;\n",
              "}\n",
              "\n",
              "#sk-container-id-1 input.sk-hidden--visually {\n",
              "  border: 0;\n",
              "  clip: rect(1px 1px 1px 1px);\n",
              "  clip: rect(1px, 1px, 1px, 1px);\n",
              "  height: 1px;\n",
              "  margin: -1px;\n",
              "  overflow: hidden;\n",
              "  padding: 0;\n",
              "  position: absolute;\n",
              "  width: 1px;\n",
              "}\n",
              "\n",
              "#sk-container-id-1 div.sk-dashed-wrapped {\n",
              "  border: 1px dashed var(--sklearn-color-line);\n",
              "  margin: 0 0.4em 0.5em 0.4em;\n",
              "  box-sizing: border-box;\n",
              "  padding-bottom: 0.4em;\n",
              "  background-color: var(--sklearn-color-background);\n",
              "}\n",
              "\n",
              "#sk-container-id-1 div.sk-container {\n",
              "  /* jupyter's `normalize.less` sets `[hidden] { display: none; }`\n",
              "     but bootstrap.min.css set `[hidden] { display: none !important; }`\n",
              "     so we also need the `!important` here to be able to override the\n",
              "     default hidden behavior on the sphinx rendered scikit-learn.org.\n",
              "     See: https://github.com/scikit-learn/scikit-learn/issues/21755 */\n",
              "  display: inline-block !important;\n",
              "  position: relative;\n",
              "}\n",
              "\n",
              "#sk-container-id-1 div.sk-text-repr-fallback {\n",
              "  display: none;\n",
              "}\n",
              "\n",
              "div.sk-parallel-item,\n",
              "div.sk-serial,\n",
              "div.sk-item {\n",
              "  /* draw centered vertical line to link estimators */\n",
              "  background-image: linear-gradient(var(--sklearn-color-text-on-default-background), var(--sklearn-color-text-on-default-background));\n",
              "  background-size: 2px 100%;\n",
              "  background-repeat: no-repeat;\n",
              "  background-position: center center;\n",
              "}\n",
              "\n",
              "/* Parallel-specific style estimator block */\n",
              "\n",
              "#sk-container-id-1 div.sk-parallel-item::after {\n",
              "  content: \"\";\n",
              "  width: 100%;\n",
              "  border-bottom: 2px solid var(--sklearn-color-text-on-default-background);\n",
              "  flex-grow: 1;\n",
              "}\n",
              "\n",
              "#sk-container-id-1 div.sk-parallel {\n",
              "  display: flex;\n",
              "  align-items: stretch;\n",
              "  justify-content: center;\n",
              "  background-color: var(--sklearn-color-background);\n",
              "  position: relative;\n",
              "}\n",
              "\n",
              "#sk-container-id-1 div.sk-parallel-item {\n",
              "  display: flex;\n",
              "  flex-direction: column;\n",
              "}\n",
              "\n",
              "#sk-container-id-1 div.sk-parallel-item:first-child::after {\n",
              "  align-self: flex-end;\n",
              "  width: 50%;\n",
              "}\n",
              "\n",
              "#sk-container-id-1 div.sk-parallel-item:last-child::after {\n",
              "  align-self: flex-start;\n",
              "  width: 50%;\n",
              "}\n",
              "\n",
              "#sk-container-id-1 div.sk-parallel-item:only-child::after {\n",
              "  width: 0;\n",
              "}\n",
              "\n",
              "/* Serial-specific style estimator block */\n",
              "\n",
              "#sk-container-id-1 div.sk-serial {\n",
              "  display: flex;\n",
              "  flex-direction: column;\n",
              "  align-items: center;\n",
              "  background-color: var(--sklearn-color-background);\n",
              "  padding-right: 1em;\n",
              "  padding-left: 1em;\n",
              "}\n",
              "\n",
              "\n",
              "/* Toggleable style: style used for estimator/Pipeline/ColumnTransformer box that is\n",
              "clickable and can be expanded/collapsed.\n",
              "- Pipeline and ColumnTransformer use this feature and define the default style\n",
              "- Estimators will overwrite some part of the style using the `sk-estimator` class\n",
              "*/\n",
              "\n",
              "/* Pipeline and ColumnTransformer style (default) */\n",
              "\n",
              "#sk-container-id-1 div.sk-toggleable {\n",
              "  /* Default theme specific background. It is overwritten whether we have a\n",
              "  specific estimator or a Pipeline/ColumnTransformer */\n",
              "  background-color: var(--sklearn-color-background);\n",
              "}\n",
              "\n",
              "/* Toggleable label */\n",
              "#sk-container-id-1 label.sk-toggleable__label {\n",
              "  cursor: pointer;\n",
              "  display: block;\n",
              "  width: 100%;\n",
              "  margin-bottom: 0;\n",
              "  padding: 0.5em;\n",
              "  box-sizing: border-box;\n",
              "  text-align: center;\n",
              "}\n",
              "\n",
              "#sk-container-id-1 label.sk-toggleable__label-arrow:before {\n",
              "  /* Arrow on the left of the label */\n",
              "  content: \"▸\";\n",
              "  float: left;\n",
              "  margin-right: 0.25em;\n",
              "  color: var(--sklearn-color-icon);\n",
              "}\n",
              "\n",
              "#sk-container-id-1 label.sk-toggleable__label-arrow:hover:before {\n",
              "  color: var(--sklearn-color-text);\n",
              "}\n",
              "\n",
              "/* Toggleable content - dropdown */\n",
              "\n",
              "#sk-container-id-1 div.sk-toggleable__content {\n",
              "  max-height: 0;\n",
              "  max-width: 0;\n",
              "  overflow: hidden;\n",
              "  text-align: left;\n",
              "  /* unfitted */\n",
              "  background-color: var(--sklearn-color-unfitted-level-0);\n",
              "}\n",
              "\n",
              "#sk-container-id-1 div.sk-toggleable__content.fitted {\n",
              "  /* fitted */\n",
              "  background-color: var(--sklearn-color-fitted-level-0);\n",
              "}\n",
              "\n",
              "#sk-container-id-1 div.sk-toggleable__content pre {\n",
              "  margin: 0.2em;\n",
              "  border-radius: 0.25em;\n",
              "  color: var(--sklearn-color-text);\n",
              "  /* unfitted */\n",
              "  background-color: var(--sklearn-color-unfitted-level-0);\n",
              "}\n",
              "\n",
              "#sk-container-id-1 div.sk-toggleable__content.fitted pre {\n",
              "  /* unfitted */\n",
              "  background-color: var(--sklearn-color-fitted-level-0);\n",
              "}\n",
              "\n",
              "#sk-container-id-1 input.sk-toggleable__control:checked~div.sk-toggleable__content {\n",
              "  /* Expand drop-down */\n",
              "  max-height: 200px;\n",
              "  max-width: 100%;\n",
              "  overflow: auto;\n",
              "}\n",
              "\n",
              "#sk-container-id-1 input.sk-toggleable__control:checked~label.sk-toggleable__label-arrow:before {\n",
              "  content: \"▾\";\n",
              "}\n",
              "\n",
              "/* Pipeline/ColumnTransformer-specific style */\n",
              "\n",
              "#sk-container-id-1 div.sk-label input.sk-toggleable__control:checked~label.sk-toggleable__label {\n",
              "  color: var(--sklearn-color-text);\n",
              "  background-color: var(--sklearn-color-unfitted-level-2);\n",
              "}\n",
              "\n",
              "#sk-container-id-1 div.sk-label.fitted input.sk-toggleable__control:checked~label.sk-toggleable__label {\n",
              "  background-color: var(--sklearn-color-fitted-level-2);\n",
              "}\n",
              "\n",
              "/* Estimator-specific style */\n",
              "\n",
              "/* Colorize estimator box */\n",
              "#sk-container-id-1 div.sk-estimator input.sk-toggleable__control:checked~label.sk-toggleable__label {\n",
              "  /* unfitted */\n",
              "  background-color: var(--sklearn-color-unfitted-level-2);\n",
              "}\n",
              "\n",
              "#sk-container-id-1 div.sk-estimator.fitted input.sk-toggleable__control:checked~label.sk-toggleable__label {\n",
              "  /* fitted */\n",
              "  background-color: var(--sklearn-color-fitted-level-2);\n",
              "}\n",
              "\n",
              "#sk-container-id-1 div.sk-label label.sk-toggleable__label,\n",
              "#sk-container-id-1 div.sk-label label {\n",
              "  /* The background is the default theme color */\n",
              "  color: var(--sklearn-color-text-on-default-background);\n",
              "}\n",
              "\n",
              "/* On hover, darken the color of the background */\n",
              "#sk-container-id-1 div.sk-label:hover label.sk-toggleable__label {\n",
              "  color: var(--sklearn-color-text);\n",
              "  background-color: var(--sklearn-color-unfitted-level-2);\n",
              "}\n",
              "\n",
              "/* Label box, darken color on hover, fitted */\n",
              "#sk-container-id-1 div.sk-label.fitted:hover label.sk-toggleable__label.fitted {\n",
              "  color: var(--sklearn-color-text);\n",
              "  background-color: var(--sklearn-color-fitted-level-2);\n",
              "}\n",
              "\n",
              "/* Estimator label */\n",
              "\n",
              "#sk-container-id-1 div.sk-label label {\n",
              "  font-family: monospace;\n",
              "  font-weight: bold;\n",
              "  display: inline-block;\n",
              "  line-height: 1.2em;\n",
              "}\n",
              "\n",
              "#sk-container-id-1 div.sk-label-container {\n",
              "  text-align: center;\n",
              "}\n",
              "\n",
              "/* Estimator-specific */\n",
              "#sk-container-id-1 div.sk-estimator {\n",
              "  font-family: monospace;\n",
              "  border: 1px dotted var(--sklearn-color-border-box);\n",
              "  border-radius: 0.25em;\n",
              "  box-sizing: border-box;\n",
              "  margin-bottom: 0.5em;\n",
              "  /* unfitted */\n",
              "  background-color: var(--sklearn-color-unfitted-level-0);\n",
              "}\n",
              "\n",
              "#sk-container-id-1 div.sk-estimator.fitted {\n",
              "  /* fitted */\n",
              "  background-color: var(--sklearn-color-fitted-level-0);\n",
              "}\n",
              "\n",
              "/* on hover */\n",
              "#sk-container-id-1 div.sk-estimator:hover {\n",
              "  /* unfitted */\n",
              "  background-color: var(--sklearn-color-unfitted-level-2);\n",
              "}\n",
              "\n",
              "#sk-container-id-1 div.sk-estimator.fitted:hover {\n",
              "  /* fitted */\n",
              "  background-color: var(--sklearn-color-fitted-level-2);\n",
              "}\n",
              "\n",
              "/* Specification for estimator info (e.g. \"i\" and \"?\") */\n",
              "\n",
              "/* Common style for \"i\" and \"?\" */\n",
              "\n",
              ".sk-estimator-doc-link,\n",
              "a:link.sk-estimator-doc-link,\n",
              "a:visited.sk-estimator-doc-link {\n",
              "  float: right;\n",
              "  font-size: smaller;\n",
              "  line-height: 1em;\n",
              "  font-family: monospace;\n",
              "  background-color: var(--sklearn-color-background);\n",
              "  border-radius: 1em;\n",
              "  height: 1em;\n",
              "  width: 1em;\n",
              "  text-decoration: none !important;\n",
              "  margin-left: 1ex;\n",
              "  /* unfitted */\n",
              "  border: var(--sklearn-color-unfitted-level-1) 1pt solid;\n",
              "  color: var(--sklearn-color-unfitted-level-1);\n",
              "}\n",
              "\n",
              ".sk-estimator-doc-link.fitted,\n",
              "a:link.sk-estimator-doc-link.fitted,\n",
              "a:visited.sk-estimator-doc-link.fitted {\n",
              "  /* fitted */\n",
              "  border: var(--sklearn-color-fitted-level-1) 1pt solid;\n",
              "  color: var(--sklearn-color-fitted-level-1);\n",
              "}\n",
              "\n",
              "/* On hover */\n",
              "div.sk-estimator:hover .sk-estimator-doc-link:hover,\n",
              ".sk-estimator-doc-link:hover,\n",
              "div.sk-label-container:hover .sk-estimator-doc-link:hover,\n",
              ".sk-estimator-doc-link:hover {\n",
              "  /* unfitted */\n",
              "  background-color: var(--sklearn-color-unfitted-level-3);\n",
              "  color: var(--sklearn-color-background);\n",
              "  text-decoration: none;\n",
              "}\n",
              "\n",
              "div.sk-estimator.fitted:hover .sk-estimator-doc-link.fitted:hover,\n",
              ".sk-estimator-doc-link.fitted:hover,\n",
              "div.sk-label-container:hover .sk-estimator-doc-link.fitted:hover,\n",
              ".sk-estimator-doc-link.fitted:hover {\n",
              "  /* fitted */\n",
              "  background-color: var(--sklearn-color-fitted-level-3);\n",
              "  color: var(--sklearn-color-background);\n",
              "  text-decoration: none;\n",
              "}\n",
              "\n",
              "/* Span, style for the box shown on hovering the info icon */\n",
              ".sk-estimator-doc-link span {\n",
              "  display: none;\n",
              "  z-index: 9999;\n",
              "  position: relative;\n",
              "  font-weight: normal;\n",
              "  right: .2ex;\n",
              "  padding: .5ex;\n",
              "  margin: .5ex;\n",
              "  width: min-content;\n",
              "  min-width: 20ex;\n",
              "  max-width: 50ex;\n",
              "  color: var(--sklearn-color-text);\n",
              "  box-shadow: 2pt 2pt 4pt #999;\n",
              "  /* unfitted */\n",
              "  background: var(--sklearn-color-unfitted-level-0);\n",
              "  border: .5pt solid var(--sklearn-color-unfitted-level-3);\n",
              "}\n",
              "\n",
              ".sk-estimator-doc-link.fitted span {\n",
              "  /* fitted */\n",
              "  background: var(--sklearn-color-fitted-level-0);\n",
              "  border: var(--sklearn-color-fitted-level-3);\n",
              "}\n",
              "\n",
              ".sk-estimator-doc-link:hover span {\n",
              "  display: block;\n",
              "}\n",
              "\n",
              "/* \"?\"-specific style due to the `<a>` HTML tag */\n",
              "\n",
              "#sk-container-id-1 a.estimator_doc_link {\n",
              "  float: right;\n",
              "  font-size: 1rem;\n",
              "  line-height: 1em;\n",
              "  font-family: monospace;\n",
              "  background-color: var(--sklearn-color-background);\n",
              "  border-radius: 1rem;\n",
              "  height: 1rem;\n",
              "  width: 1rem;\n",
              "  text-decoration: none;\n",
              "  /* unfitted */\n",
              "  color: var(--sklearn-color-unfitted-level-1);\n",
              "  border: var(--sklearn-color-unfitted-level-1) 1pt solid;\n",
              "}\n",
              "\n",
              "#sk-container-id-1 a.estimator_doc_link.fitted {\n",
              "  /* fitted */\n",
              "  border: var(--sklearn-color-fitted-level-1) 1pt solid;\n",
              "  color: var(--sklearn-color-fitted-level-1);\n",
              "}\n",
              "\n",
              "/* On hover */\n",
              "#sk-container-id-1 a.estimator_doc_link:hover {\n",
              "  /* unfitted */\n",
              "  background-color: var(--sklearn-color-unfitted-level-3);\n",
              "  color: var(--sklearn-color-background);\n",
              "  text-decoration: none;\n",
              "}\n",
              "\n",
              "#sk-container-id-1 a.estimator_doc_link.fitted:hover {\n",
              "  /* fitted */\n",
              "  background-color: var(--sklearn-color-fitted-level-3);\n",
              "}\n",
              "</style><div id=\"sk-container-id-1\" class=\"sk-top-container\"><div class=\"sk-text-repr-fallback\"><pre>RandomForestRegressor()</pre><b>In a Jupyter environment, please rerun this cell to show the HTML representation or trust the notebook. <br />On GitHub, the HTML representation is unable to render, please try loading this page with nbviewer.org.</b></div><div class=\"sk-container\" hidden><div class=\"sk-item\"><div class=\"sk-estimator fitted sk-toggleable\"><input class=\"sk-toggleable__control sk-hidden--visually\" id=\"sk-estimator-id-1\" type=\"checkbox\" checked><label for=\"sk-estimator-id-1\" class=\"sk-toggleable__label fitted sk-toggleable__label-arrow fitted\">&nbsp;&nbsp;RandomForestRegressor<a class=\"sk-estimator-doc-link fitted\" rel=\"noreferrer\" target=\"_blank\" href=\"https://scikit-learn.org/1.4/modules/generated/sklearn.ensemble.RandomForestRegressor.html\">?<span>Documentation for RandomForestRegressor</span></a><span class=\"sk-estimator-doc-link fitted\">i<span>Fitted</span></span></label><div class=\"sk-toggleable__content fitted\"><pre>RandomForestRegressor()</pre></div> </div></div></div></div>"
            ],
            "text/plain": [
              "RandomForestRegressor()"
            ]
          },
          "execution_count": 24,
          "metadata": {},
          "output_type": "execute_result"
        }
      ],
      "source": [
        "regressor.fit(X_train,Y_train)"
      ]
    },
    {
      "cell_type": "code",
      "execution_count": null,
      "metadata": {
        "id": "bgbh4TQtv_65"
      },
      "outputs": [],
      "source": [
        "test_data_prediction = regressor.predict(X_test)"
      ]
    },
    {
      "cell_type": "code",
      "execution_count": null,
      "metadata": {
        "colab": {
          "base_uri": "https://localhost:8080/"
        },
        "id": "lPX0hGmxwDvq",
        "outputId": "02c6777d-b552-4221-f0f9-0da218a47484"
      },
      "outputs": [
        {
          "name": "stdout",
          "output_type": "stream",
          "text": [
            "[168.46179948  82.04329971 116.32170029 127.66280068 120.79010076\n",
            " 154.67649735 150.49359919 126.18210029 117.47719869 126.03690052\n",
            " 116.82070069 172.58640092 141.29319783 167.87069909 115.1528004\n",
            " 117.82610058 137.48410401 170.02800071 159.38390313 157.77889941\n",
            " 154.9402003  125.12550031 175.96540005 157.04750324 125.16530028\n",
            "  93.74489974  77.58820006 120.43720016 119.03059944 167.59649945\n",
            "  88.06549992 125.31550012  91.19240041 117.77840024 121.0486994\n",
            " 136.94660055 115.41450131 115.20800056 150.0393994  107.22850113\n",
            " 104.78960239  87.22629793 126.47490063 117.84439987 150.93199923\n",
            " 119.56590014 108.21750011 108.05449844  93.23920089 126.89609837\n",
            "  74.7323002  113.62779894 121.19240014 111.31209886 118.90889875\n",
            " 120.56859929 159.13020012 166.43290099 147.02579698  85.92079865\n",
            "  94.42210023  86.73349866  90.43690039 118.98770068 126.41930074\n",
            " 127.5475002  169.61390009 122.34819939 117.30769916  98.39910029\n",
            " 168.13500067 142.63959831 132.09920265 121.24290223 120.79899955\n",
            " 119.68790059 114.66900097 118.34530068 107.08740128 127.87920076\n",
            " 113.81569972 107.38740011 116.97760075 119.68809882  88.86040066\n",
            "  88.28399849 146.76140198 127.3609     113.37460045 110.16929829\n",
            " 108.15119909  76.97049893 170.04920195 114.1501991  121.56889899\n",
            " 128.08060186 154.80969804  91.61429916 135.82360093 159.26970327\n",
            " 124.97240094 125.3421007  130.50420203 115.01250079 119.79749936\n",
            "  92.12049993 110.34929865 167.684499   156.37820008 114.20779933\n",
            " 106.82590135  79.97849992 113.28520023 125.7882008  107.09959914\n",
            " 119.41750077 155.74200265 159.8507981  120.4692999  134.38180339\n",
            " 101.53459992 117.64159818 119.41430057 113.00220071 102.75199904\n",
            " 160.40539721  99.21720035 147.54189852 125.58960109 170.00629846\n",
            " 125.7242984  127.35399707 127.44620172 113.79839907 112.89300047\n",
            " 123.67259889 102.20169892  89.50319944 124.64649926 102.03149956\n",
            " 106.96349891 113.43820069 117.33830058  99.20799959 121.8405003\n",
            " 163.74929893  87.30309865 106.4677002  117.2319005  127.65200149\n",
            " 124.16440047  80.83259899 119.93080043 158.21059755  87.91879971\n",
            " 110.11109989 118.79529939 173.08919802 103.06089901 105.39980056\n",
            " 122.77360034 158.44419736  87.46509852  93.01540047 112.83230046\n",
            " 177.72959949 114.14050003 119.45660049  94.72520138 125.65360014\n",
            " 166.32510082 114.89520049 116.88600104  88.30909847 148.898701\n",
            " 120.3162998   89.44379987 111.95050026 117.18140011 118.84400114\n",
            "  88.12499904  94.11100036 116.77369996 118.51430183 120.03710037\n",
            " 126.95189771 121.96719986 150.97080075 165.1996001  118.56139945\n",
            " 120.15080134 149.3113007  118.46189907 173.51969869 105.7820993\n",
            " 104.95410142 149.21360122 113.90120114 124.83890078 147.09749971\n",
            " 119.63040154 115.32210044 112.60340003 113.39530213 139.87780082\n",
            " 117.82359778 102.95350014 115.79630108 104.15980177  98.94790039\n",
            " 117.24940079  90.7640001   91.60370031 153.47269933 102.75779988\n",
            " 153.60570044 114.44160151 138.70220115  90.05559803 115.56339937\n",
            " 114.66789976 122.94010008 121.7810002  165.17140101  92.93209981\n",
            " 134.98470106 121.34309946 120.59080101 104.51290023 143.98800257\n",
            " 121.97789946 116.63830053 113.54030107 127.44589706 122.49749963\n",
            " 125.79759937 121.19910062  86.79419883 132.38440161 145.15230163\n",
            "  92.69359951 158.49479983 158.70260183 126.22289874 165.09909989\n",
            " 108.76379965 110.16440085 103.44789811  94.14880074 127.87740293\n",
            " 107.03449992 161.04810064 121.79410017 131.89149996 130.59250206\n",
            " 160.57000039  90.0382985  175.33330177 127.64190056 127.06259764\n",
            "  86.25399898 124.57449936 149.97449729  89.57790021 106.54250028\n",
            " 109.0169997   83.53169883 136.10440011 154.99770206 139.60410388\n",
            "  74.31110043 152.11290146 125.99809952 126.73460001 127.44339938\n",
            " 108.55249937 156.22870075 114.58150082 116.84890157 125.3443994\n",
            " 153.97540128 121.3564001  156.37819888  93.02630055 125.43490119\n",
            " 125.34740012  87.90380024  92.28719917 126.32139925 128.47110384\n",
            " 113.09290076 117.64999758 120.81830001 127.42789745 119.29810132\n",
            " 137.00120052  93.83279919 119.94850048 113.00340116  94.31319928\n",
            " 108.6456      86.65289934 108.79959943  89.50930025  92.45610053\n",
            " 131.58590346 162.41970072  89.25170005 119.67190102 133.27070199\n",
            " 123.81070015 128.32550177 101.96389851  88.97159882 132.87230128\n",
            " 119.68940049 108.31679997 167.81820102 115.1277005   86.5686989\n",
            " 118.98010044  91.21579936 162.16560053 116.46520038 121.75390025\n",
            " 160.04429756 119.91239941 112.63549967 108.43619895 126.62199964\n",
            "  75.80640047 102.96709975 127.72530278 121.77049912  92.64030043\n",
            " 132.02360043 117.89170081 115.87639946 154.64770267 159.64790073\n",
            " 110.17319982 152.86869755 119.33470071 160.31389979 118.12380015\n",
            " 156.72869955 115.08649911 116.7690002  150.12629886 114.90480071\n",
            " 125.72059881 166.54779921 117.70299998 125.03199927 153.37770356\n",
            " 153.38580242 132.23580029 114.92700008 121.15820201 125.44110064\n",
            "  89.77140063 123.37310027 154.4074025  111.79440048 106.46280017\n",
            " 161.79620094 118.61540022 165.69639965 134.19290089 115.25809949\n",
            " 152.96379912 168.59270003 115.3088001  114.17140126 159.69839952\n",
            "  85.21829861 126.99460077 127.87310025 128.95479983 124.32940063\n",
            " 124.00270061  90.52320094 153.22169966  97.29159962 138.30679995\n",
            "  89.04329893 107.39200009 115.08060054 112.72830058 123.82109933\n",
            "  91.49479866 125.45810153 162.42049926 119.83529853 164.95720042\n",
            " 127.05789723 112.26010043 127.54849938  94.52239912  90.71119992\n",
            " 103.90189913 120.74410019  83.21209935 126.41639994 160.08980434\n",
            " 117.22370091 118.32579963 119.74370002 122.76219958 119.97470136\n",
            " 121.50169984 118.36690063 106.90459968 148.38240014 126.15249827\n",
            " 115.71580102  74.35980016 127.839101   152.34820027 122.06179972\n",
            " 125.59070049  88.84290022 103.49589877 124.37180056 120.2310002\n",
            "  73.45310097 151.19750013 120.98590049 104.57790028  86.43639748\n",
            " 115.19659948 172.21209758 119.8021003  158.68119783 113.0846997\n",
            " 121.14670022 118.39000086  95.97819992 118.35900016 126.04820047\n",
            " 118.35789958  95.82390056 153.78800195 122.19859997 147.43359999\n",
            " 159.59700228 113.99020035 122.70409886 151.12649843 126.98950049\n",
            " 165.73160009 135.49380006 119.83359951 167.52819814 108.26739968\n",
            " 121.71619874 140.31410143 106.64279864]\n"
          ]
        }
      ],
      "source": [
        "print(test_data_prediction)"
      ]
    },
    {
      "cell_type": "code",
      "execution_count": null,
      "metadata": {
        "colab": {
          "base_uri": "https://localhost:8080/"
        },
        "id": "S70g2R0NwOAl",
        "outputId": "78ec9b6e-c75c-44d1-a531-98aa84586547"
      },
      "outputs": [
        {
          "name": "stdout",
          "output_type": "stream",
          "text": [
            "R squared error :  0.9885639299847145\n"
          ]
        }
      ],
      "source": [
        "# R squared error\n",
        "error_score = metrics.r2_score(Y_test, test_data_prediction)\n",
        "print(\"R squared error : \", error_score)"
      ]
    },
    {
      "cell_type": "code",
      "execution_count": null,
      "metadata": {
        "colab": {
          "base_uri": "https://localhost:8080/"
        },
        "id": "p490A6TH0HTQ",
        "outputId": "9eb65abc-4d68-40f6-bbce-3ec281d4cede"
      },
      "outputs": [
        {
          "name": "stdout",
          "output_type": "stream",
          "text": [
            "[168.020004, 81.230003, 112.32, 127.589996, 119.620003, 154.210007, 148.910004, 126.190002, 117.470001, 125.739998, 115.379997, 167.119995, 141.630005, 169.559998, 115.599998, 119.669998, 132.949997, 170.399994, 159.369995, 173.529999, 154.720001, 128.119995, 177.720001, 157.190002, 125.309998, 93.400002, 76.790001, 119.690002, 118.989998, 167.389999, 87.5, 124.980003, 91.230003, 115.489998, 120.949997, 133.809998, 116.690002, 113.809998, 133.580002, 105.970001, 105.120003, 87.959999, 126.82, 116.860001, 159.259995, 119.459999, 109.160004, 108.620003, 93.269997, 127.160004, 72.260002, 113.470001, 119.68, 109.139999, 119.309998, 120.050003, 159.889999, 161.490005, 146.740005, 85.809998, 93.709999, 85.550003, 91.029999, 118.489998, 126.449997, 126.980003, 171.699997, 122.400002, 116.410004, 97.959999, 169.630005, 142.639999, 131.809998, 121.360001, 124.0, 119.699997, 113.889999, 118.919998, 105.639999, 127.669998, 114.32, 107.309998, 114.82, 119.230003, 86.860001, 87.010002, 147.729996, 128.199997, 113.260002, 110.82, 107.360001, 74.220001, 172.940002, 114.099998, 121.650002, 129.110001, 156.770004, 91.660004, 133.479996, 161.029999, 128.470001, 125.75, 132.289993, 114.019997, 118.230003, 93.709999, 111.150002, 164.289993, 157.770004, 115.510002, 107.129997, 83.309998, 115.150002, 125.540001, 106.080002, 120.580002, 157.139999, 161.059998, 120.309998, 133.070007, 103.949997, 116.360001, 119.309998, 112.370003, 102.839996, 161.199997, 97.050003, 147.830002, 125.32, 171.139999, 123.540001, 127.07, 127.959999, 114.830002, 111.540001, 122.849998, 100.5, 90.040001, 123.989998, 98.900002, 106.169998, 110.82, 120.389999, 98.849998, 122.449997, 162.300003, 86.650002, 106.150002, 116.43, 127.959999, 122.830002, 80.760002, 119.529999, 159.729996, 88.470001, 110.160004, 115.940002, 170.75, 102.339996, 105.019997, 122.730003, 160.330002, 86.949997, 93.190002, 111.43, 172.360001, 114.120003, 120.129997, 93.699997, 126.089996, 167.619995, 116.330002, 117.120003, 87.25, 149.199997, 118.690002, 89.419998, 113.650002, 115.519997, 118.669998, 86.989998, 93.830002, 116.550003, 118.300003, 121.800003, 127.660004, 122.699997, 137.710007, 163.630005, 118.43, 120.870003, 152.619995, 117.959999, 160.639999, 99.910004, 104.269997, 149.820007, 110.449997, 125.440002, 145.649994, 120.220001, 115.68, 113.029999, 112.150002, 134.050003, 118.059998, 102.610001, 116.339996, 104.68, 98.830002, 116.089996, 91.089996, 92.080002, 154.669998, 102.43, 154.770004, 113.68, 138.089996, 91.330002, 116.330002, 115.669998, 122.5438, 122.290001, 166.020004, 92.739998, 137.240005, 121.309998, 119.550003, 104.669998, 135.050003, 122.919998, 115.620003, 113.150002, 124.269997, 123.349998, 125.779999, 121.559998, 85.82, 132.449997, 154.869995, 92.059998, 148.970001, 161.880005, 127.199997, 167.350006, 108.559998, 110.440002, 104.209999, 95.769997, 129.470001, 108.349998, 149.119995, 121.730003, 131.699997, 131.960007, 160.990005, 90.57, 173.889999, 128.089996, 127.550003, 86.779999, 123.940002, 150.419998, 89.269997, 108.050003, 111.019997, 89.18, 138.369995, 156.220001, 134.660004, 73.580002, 152.970001, 126.559998, 126.139999, 127.75, 108.360001, 157.460007, 114.0, 116.989998, 126.860001, 155.240005, 120.650002, 156.990005, 92.790001, 125.389999, 124.889999, 88.25, 91.93, 126.339996, 128.839996, 112.889999, 117.360001, 119.739998, 128.179993, 121.480003, 134.199997, 93.900002, 118.900002, 112.300003, 94.779999, 108.699997, 86.709999, 110.260002, 88.639999, 93.239998, 131.320007, 163.089996, 90.120003, 119.82, 133.940002, 125.839996, 127.739998, 101.459999, 89.18, 132.199997, 122.150002, 110.529999, 172.070007, 115.279999, 85.389999, 121.959999, 90.760002, 161.300003, 116.519997, 120.400002, 160.490005, 121.489998, 114.949997, 109.980003, 126.529999, 73.449997, 102.040001, 130.229996, 121.099998, 91.169998, 132.089996, 117.970001, 116.110001, 156.25, 161.600006, 110.209999, 135.410004, 119.040001, 162.020004, 118.080002, 159.699997, 114.43, 117.980003, 147.770004, 115.330002, 126.230003, 165.589996, 116.790001, 125.029999, 153.229996, 153.470001, 132.809998, 115.029999, 120.959999, 126.470001, 93.089996, 122.519997, 151.410004, 111.669998, 106.949997, 162.619995, 120.050003, 165.160004, 131.570007, 116.169998, 152.990005, 169.429993, 110.57, 115.379997, 161.199997, 85.43, 128.110001, 127.269997, 129.210007, 125.610001, 124.230003, 91.099998, 151.619995, 96.089996, 136.179993, 90.25, 106.93, 115.470001, 111.540001, 126.309998, 90.919998, 125.410004, 163.350006, 117.959999, 166.070007, 127.790001, 111.5, 127.580002, 96.910004, 89.980003, 99.339996, 120.419998, 82.199997, 125.370003, 159.429993, 117.099998, 120.730003, 118.650002, 120.620003, 119.480003, 121.18, 118.809998, 107.559998, 146.380005, 122.830002, 115.43, 71.709999, 128.070007, 157.199997, 120.860001, 126.239998, 89.010002, 102.550003, 124.32, 119.910004, 72.150002, 150.75, 120.029999, 104.099998, 86.230003, 113.580002, 172.100006, 121.480003, 161.539993, 112.769997, 122.419998, 120.940002, 95.989998, 120.760002, 125.32, 118.080002, 97.730003, 154.649994, 120.589996, 143.470001, 160.589996, 111.629997, 122.120003, 146.240005, 127.959999, 164.119995, 133.429993, 122.379997, 166.380005, 106.379997, 122.239998, 133.830002, 102.360001]\n"
          ]
        }
      ],
      "source": [
        "Y_test = list(Y_test)\n",
        "print(Y_test)"
      ]
    },
    {
      "cell_type": "markdown",
      "metadata": {
        "id": "0GrOFLuAHsrh"
      },
      "source": [
        "plt.legend(): This line of code is calling a function called legend() provided by the plt (matplotlib.pyplot) library. The legend() function is used to add a legend to the plot.\n",
        "\n",
        "Legend: A legend is a small box or area within the plot that describes the elements of the plot. For example, if you have multiple lines or different data series plotted on the same graph, the legend helps to identify what each line or data series represents."
      ]
    },
    {
      "cell_type": "code",
      "execution_count": null,
      "metadata": {
        "colab": {
          "base_uri": "https://localhost:8080/",
          "height": 472
        },
        "id": "H2BQpsWZyCCh",
        "outputId": "4f6df0e2-4afe-4a57-d623-a485e1262a4a"
      },
      "outputs": [
        {
          "data": {
            "image/png": "[encoded data removed]",
            "text/plain": [
              "<Figure size 640x480 with 1 Axes>"
            ]
          },
          "metadata": {},
          "output_type": "display_data"
        }
      ],
      "source": [
        "plt.plot(Y_test, color='blue', label = 'Actual Value')\n",
        "plt.plot(test_data_prediction, color='green', label='Predicted Value')\n",
        "plt.title('Actual Price vs Predicted Price')\n",
        "plt.xlabel('Number of values')\n",
        "plt.ylabel('GLD Price')\n",
        "plt.legend()\n",
        "plt.show()"
      ]
    },
    {
      "cell_type": "code",
      "execution_count": null,
      "metadata": {
        "id": "IePGIRB38HWz"
      },
      "outputs": [],
      "source": [
        "# train model for linear regression\n",
        "model = LinearRegression()"
      ]
    },
    {
      "cell_type": "code",
      "execution_count": null,
      "metadata": {
        "colab": {
          "base_uri": "https://localhost:8080/",
          "height": 74
        },
        "id": "Gh2c227B8PFv",
        "outputId": "dc9e3da8-4f72-4c90-cffc-fe23f0a6f575"
      },
      "outputs": [
        {
          "data": {
            "text/html": [
              "<style>#sk-container-id-2 {\n",
              "  /* Definition of color scheme common for light and dark mode */\n",
              "  --sklearn-color-text: black;\n",
              "  --sklearn-color-line: gray;\n",
              "  /* Definition of color scheme for unfitted estimators */\n",
              "  --sklearn-color-unfitted-level-0: #fff5e6;\n",
              "  --sklearn-color-unfitted-level-1: #f6e4d2;\n",
              "  --sklearn-color-unfitted-level-2: #ffe0b3;\n",
              "  --sklearn-color-unfitted-level-3: chocolate;\n",
              "  /* Definition of color scheme for fitted estimators */\n",
              "  --sklearn-color-fitted-level-0: #f0f8ff;\n",
              "  --sklearn-color-fitted-level-1: #d4ebff;\n",
              "  --sklearn-color-fitted-level-2: #b3dbfd;\n",
              "  --sklearn-color-fitted-level-3: cornflowerblue;\n",
              "\n",
              "  /* Specific color for light theme */\n",
              "  --sklearn-color-text-on-default-background: var(--sg-text-color, var(--theme-code-foreground, var(--jp-content-font-color1, black)));\n",
              "  --sklearn-color-background: var(--sg-background-color, var(--theme-background, var(--jp-layout-color0, white)));\n",
              "  --sklearn-color-border-box: var(--sg-text-color, var(--theme-code-foreground, var(--jp-content-font-color1, black)));\n",
              "  --sklearn-color-icon: #696969;\n",
              "\n",
              "  @media (prefers-color-scheme: dark) {\n",
              "    /* Redefinition of color scheme for dark theme */\n",
              "    --sklearn-color-text-on-default-background: var(--sg-text-color, var(--theme-code-foreground, var(--jp-content-font-color1, white)));\n",
              "    --sklearn-color-background: var(--sg-background-color, var(--theme-background, var(--jp-layout-color0, #111)));\n",
              "    --sklearn-color-border-box: var(--sg-text-color, var(--theme-code-foreground, var(--jp-content-font-color1, white)));\n",
              "    --sklearn-color-icon: #878787;\n",
              "  }\n",
              "}\n",
              "\n",
              "#sk-container-id-2 {\n",
              "  color: var(--sklearn-color-text);\n",
              "}\n",
              "\n",
              "#sk-container-id-2 pre {\n",
              "  padding: 0;\n",
              "}\n",
              "\n",
              "#sk-container-id-2 input.sk-hidden--visually {\n",
              "  border: 0;\n",
              "  clip: rect(1px 1px 1px 1px);\n",
              "  clip: rect(1px, 1px, 1px, 1px);\n",
              "  height: 1px;\n",
              "  margin: -1px;\n",
              "  overflow: hidden;\n",
              "  padding: 0;\n",
              "  position: absolute;\n",
              "  width: 1px;\n",
              "}\n",
              "\n",
              "#sk-container-id-2 div.sk-dashed-wrapped {\n",
              "  border: 1px dashed var(--sklearn-color-line);\n",
              "  margin: 0 0.4em 0.5em 0.4em;\n",
              "  box-sizing: border-box;\n",
              "  padding-bottom: 0.4em;\n",
              "  background-color: var(--sklearn-color-background);\n",
              "}\n",
              "\n",
              "#sk-container-id-2 div.sk-container {\n",
              "  /* jupyter's `normalize.less` sets `[hidden] { display: none; }`\n",
              "     but bootstrap.min.css set `[hidden] { display: none !important; }`\n",
              "     so we also need the `!important` here to be able to override the\n",
              "     default hidden behavior on the sphinx rendered scikit-learn.org.\n",
              "     See: https://github.com/scikit-learn/scikit-learn/issues/21755 */\n",
              "  display: inline-block !important;\n",
              "  position: relative;\n",
              "}\n",
              "\n",
              "#sk-container-id-2 div.sk-text-repr-fallback {\n",
              "  display: none;\n",
              "}\n",
              "\n",
              "div.sk-parallel-item,\n",
              "div.sk-serial,\n",
              "div.sk-item {\n",
              "  /* draw centered vertical line to link estimators */\n",
              "  background-image: linear-gradient(var(--sklearn-color-text-on-default-background), var(--sklearn-color-text-on-default-background));\n",
              "  background-size: 2px 100%;\n",
              "  background-repeat: no-repeat;\n",
              "  background-position: center center;\n",
              "}\n",
              "\n",
              "/* Parallel-specific style estimator block */\n",
              "\n",
              "#sk-container-id-2 div.sk-parallel-item::after {\n",
              "  content: \"\";\n",
              "  width: 100%;\n",
              "  border-bottom: 2px solid var(--sklearn-color-text-on-default-background);\n",
              "  flex-grow: 1;\n",
              "}\n",
              "\n",
              "#sk-container-id-2 div.sk-parallel {\n",
              "  display: flex;\n",
              "  align-items: stretch;\n",
              "  justify-content: center;\n",
              "  background-color: var(--sklearn-color-background);\n",
              "  position: relative;\n",
              "}\n",
              "\n",
              "#sk-container-id-2 div.sk-parallel-item {\n",
              "  display: flex;\n",
              "  flex-direction: column;\n",
              "}\n",
              "\n",
              "#sk-container-id-2 div.sk-parallel-item:first-child::after {\n",
              "  align-self: flex-end;\n",
              "  width: 50%;\n",
              "}\n",
              "\n",
              "#sk-container-id-2 div.sk-parallel-item:last-child::after {\n",
              "  align-self: flex-start;\n",
              "  width: 50%;\n",
              "}\n",
              "\n",
              "#sk-container-id-2 div.sk-parallel-item:only-child::after {\n",
              "  width: 0;\n",
              "}\n",
              "\n",
              "/* Serial-specific style estimator block */\n",
              "\n",
              "#sk-container-id-2 div.sk-serial {\n",
              "  display: flex;\n",
              "  flex-direction: column;\n",
              "  align-items: center;\n",
              "  background-color: var(--sklearn-color-background);\n",
              "  padding-right: 1em;\n",
              "  padding-left: 1em;\n",
              "}\n",
              "\n",
              "\n",
              "/* Toggleable style: style used for estimator/Pipeline/ColumnTransformer box that is\n",
              "clickable and can be expanded/collapsed.\n",
              "- Pipeline and ColumnTransformer use this feature and define the default style\n",
              "- Estimators will overwrite some part of the style using the `sk-estimator` class\n",
              "*/\n",
              "\n",
              "/* Pipeline and ColumnTransformer style (default) */\n",
              "\n",
              "#sk-container-id-2 div.sk-toggleable {\n",
              "  /* Default theme specific background. It is overwritten whether we have a\n",
              "  specific estimator or a Pipeline/ColumnTransformer */\n",
              "  background-color: var(--sklearn-color-background);\n",
              "}\n",
              "\n",
              "/* Toggleable label */\n",
              "#sk-container-id-2 label.sk-toggleable__label {\n",
              "  cursor: pointer;\n",
              "  display: block;\n",
              "  width: 100%;\n",
              "  margin-bottom: 0;\n",
              "  padding: 0.5em;\n",
              "  box-sizing: border-box;\n",
              "  text-align: center;\n",
              "}\n",
              "\n",
              "#sk-container-id-2 label.sk-toggleable__label-arrow:before {\n",
              "  /* Arrow on the left of the label */\n",
              "  content: \"▸\";\n",
              "  float: left;\n",
              "  margin-right: 0.25em;\n",
              "  color: var(--sklearn-color-icon);\n",
              "}\n",
              "\n",
              "#sk-container-id-2 label.sk-toggleable__label-arrow:hover:before {\n",
              "  color: var(--sklearn-color-text);\n",
              "}\n",
              "\n",
              "/* Toggleable content - dropdown */\n",
              "\n",
              "#sk-container-id-2 div.sk-toggleable__content {\n",
              "  max-height: 0;\n",
              "  max-width: 0;\n",
              "  overflow: hidden;\n",
              "  text-align: left;\n",
              "  /* unfitted */\n",
              "  background-color: var(--sklearn-color-unfitted-level-0);\n",
              "}\n",
              "\n",
              "#sk-container-id-2 div.sk-toggleable__content.fitted {\n",
              "  /* fitted */\n",
              "  background-color: var(--sklearn-color-fitted-level-0);\n",
              "}\n",
              "\n",
              "#sk-container-id-2 div.sk-toggleable__content pre {\n",
              "  margin: 0.2em;\n",
              "  border-radius: 0.25em;\n",
              "  color: var(--sklearn-color-text);\n",
              "  /* unfitted */\n",
              "  background-color: var(--sklearn-color-unfitted-level-0);\n",
              "}\n",
              "\n",
              "#sk-container-id-2 div.sk-toggleable__content.fitted pre {\n",
              "  /* unfitted */\n",
              "  background-color: var(--sklearn-color-fitted-level-0);\n",
              "}\n",
              "\n",
              "#sk-container-id-2 input.sk-toggleable__control:checked~div.sk-toggleable__content {\n",
              "  /* Expand drop-down */\n",
              "  max-height: 200px;\n",
              "  max-width: 100%;\n",
              "  overflow: auto;\n",
              "}\n",
              "\n",
              "#sk-container-id-2 input.sk-toggleable__control:checked~label.sk-toggleable__label-arrow:before {\n",
              "  content: \"▾\";\n",
              "}\n",
              "\n",
              "/* Pipeline/ColumnTransformer-specific style */\n",
              "\n",
              "#sk-container-id-2 div.sk-label input.sk-toggleable__control:checked~label.sk-toggleable__label {\n",
              "  color: var(--sklearn-color-text);\n",
              "  background-color: var(--sklearn-color-unfitted-level-2);\n",
              "}\n",
              "\n",
              "#sk-container-id-2 div.sk-label.fitted input.sk-toggleable__control:checked~label.sk-toggleable__label {\n",
              "  background-color: var(--sklearn-color-fitted-level-2);\n",
              "}\n",
              "\n",
              "/* Estimator-specific style */\n",
              "\n",
              "/* Colorize estimator box */\n",
              "#sk-container-id-2 div.sk-estimator input.sk-toggleable__control:checked~label.sk-toggleable__label {\n",
              "  /* unfitted */\n",
              "  background-color: var(--sklearn-color-unfitted-level-2);\n",
              "}\n",
              "\n",
              "#sk-container-id-2 div.sk-estimator.fitted input.sk-toggleable__control:checked~label.sk-toggleable__label {\n",
              "  /* fitted */\n",
              "  background-color: var(--sklearn-color-fitted-level-2);\n",
              "}\n",
              "\n",
              "#sk-container-id-2 div.sk-label label.sk-toggleable__label,\n",
              "#sk-container-id-2 div.sk-label label {\n",
              "  /* The background is the default theme color */\n",
              "  color: var(--sklearn-color-text-on-default-background);\n",
              "}\n",
              "\n",
              "/* On hover, darken the color of the background */\n",
              "#sk-container-id-2 div.sk-label:hover label.sk-toggleable__label {\n",
              "  color: var(--sklearn-color-text);\n",
              "  background-color: var(--sklearn-color-unfitted-level-2);\n",
              "}\n",
              "\n",
              "/* Label box, darken color on hover, fitted */\n",
              "#sk-container-id-2 div.sk-label.fitted:hover label.sk-toggleable__label.fitted {\n",
              "  color: var(--sklearn-color-text);\n",
              "  background-color: var(--sklearn-color-fitted-level-2);\n",
              "}\n",
              "\n",
              "/* Estimator label */\n",
              "\n",
              "#sk-container-id-2 div.sk-label label {\n",
              "  font-family: monospace;\n",
              "  font-weight: bold;\n",
              "  display: inline-block;\n",
              "  line-height: 1.2em;\n",
              "}\n",
              "\n",
              "#sk-container-id-2 div.sk-label-container {\n",
              "  text-align: center;\n",
              "}\n",
              "\n",
              "/* Estimator-specific */\n",
              "#sk-container-id-2 div.sk-estimator {\n",
              "  font-family: monospace;\n",
              "  border: 1px dotted var(--sklearn-color-border-box);\n",
              "  border-radius: 0.25em;\n",
              "  box-sizing: border-box;\n",
              "  margin-bottom: 0.5em;\n",
              "  /* unfitted */\n",
              "  background-color: var(--sklearn-color-unfitted-level-0);\n",
              "}\n",
              "\n",
              "#sk-container-id-2 div.sk-estimator.fitted {\n",
              "  /* fitted */\n",
              "  background-color: var(--sklearn-color-fitted-level-0);\n",
              "}\n",
              "\n",
              "/* on hover */\n",
              "#sk-container-id-2 div.sk-estimator:hover {\n",
              "  /* unfitted */\n",
              "  background-color: var(--sklearn-color-unfitted-level-2);\n",
              "}\n",
              "\n",
              "#sk-container-id-2 div.sk-estimator.fitted:hover {\n",
              "  /* fitted */\n",
              "  background-color: var(--sklearn-color-fitted-level-2);\n",
              "}\n",
              "\n",
              "/* Specification for estimator info (e.g. \"i\" and \"?\") */\n",
              "\n",
              "/* Common style for \"i\" and \"?\" */\n",
              "\n",
              ".sk-estimator-doc-link,\n",
              "a:link.sk-estimator-doc-link,\n",
              "a:visited.sk-estimator-doc-link {\n",
              "  float: right;\n",
              "  font-size: smaller;\n",
              "  line-height: 1em;\n",
              "  font-family: monospace;\n",
              "  background-color: var(--sklearn-color-background);\n",
              "  border-radius: 1em;\n",
              "  height: 1em;\n",
              "  width: 1em;\n",
              "  text-decoration: none !important;\n",
              "  margin-left: 1ex;\n",
              "  /* unfitted */\n",
              "  border: var(--sklearn-color-unfitted-level-1) 1pt solid;\n",
              "  color: var(--sklearn-color-unfitted-level-1);\n",
              "}\n",
              "\n",
              ".sk-estimator-doc-link.fitted,\n",
              "a:link.sk-estimator-doc-link.fitted,\n",
              "a:visited.sk-estimator-doc-link.fitted {\n",
              "  /* fitted */\n",
              "  border: var(--sklearn-color-fitted-level-1) 1pt solid;\n",
              "  color: var(--sklearn-color-fitted-level-1);\n",
              "}\n",
              "\n",
              "/* On hover */\n",
              "div.sk-estimator:hover .sk-estimator-doc-link:hover,\n",
              ".sk-estimator-doc-link:hover,\n",
              "div.sk-label-container:hover .sk-estimator-doc-link:hover,\n",
              ".sk-estimator-doc-link:hover {\n",
              "  /* unfitted */\n",
              "  background-color: var(--sklearn-color-unfitted-level-3);\n",
              "  color: var(--sklearn-color-background);\n",
              "  text-decoration: none;\n",
              "}\n",
              "\n",
              "div.sk-estimator.fitted:hover .sk-estimator-doc-link.fitted:hover,\n",
              ".sk-estimator-doc-link.fitted:hover,\n",
              "div.sk-label-container:hover .sk-estimator-doc-link.fitted:hover,\n",
              ".sk-estimator-doc-link.fitted:hover {\n",
              "  /* fitted */\n",
              "  background-color: var(--sklearn-color-fitted-level-3);\n",
              "  color: var(--sklearn-color-background);\n",
              "  text-decoration: none;\n",
              "}\n",
              "\n",
              "/* Span, style for the box shown on hovering the info icon */\n",
              ".sk-estimator-doc-link span {\n",
              "  display: none;\n",
              "  z-index: 9999;\n",
              "  position: relative;\n",
              "  font-weight: normal;\n",
              "  right: .2ex;\n",
              "  padding: .5ex;\n",
              "  margin: .5ex;\n",
              "  width: min-content;\n",
              "  min-width: 20ex;\n",
              "  max-width: 50ex;\n",
              "  color: var(--sklearn-color-text);\n",
              "  box-shadow: 2pt 2pt 4pt #999;\n",
              "  /* unfitted */\n",
              "  background: var(--sklearn-color-unfitted-level-0);\n",
              "  border: .5pt solid var(--sklearn-color-unfitted-level-3);\n",
              "}\n",
              "\n",
              ".sk-estimator-doc-link.fitted span {\n",
              "  /* fitted */\n",
              "  background: var(--sklearn-color-fitted-level-0);\n",
              "  border: var(--sklearn-color-fitted-level-3);\n",
              "}\n",
              "\n",
              ".sk-estimator-doc-link:hover span {\n",
              "  display: block;\n",
              "}\n",
              "\n",
              "/* \"?\"-specific style due to the `<a>` HTML tag */\n",
              "\n",
              "#sk-container-id-2 a.estimator_doc_link {\n",
              "  float: right;\n",
              "  font-size: 1rem;\n",
              "  line-height: 1em;\n",
              "  font-family: monospace;\n",
              "  background-color: var(--sklearn-color-background);\n",
              "  border-radius: 1rem;\n",
              "  height: 1rem;\n",
              "  width: 1rem;\n",
              "  text-decoration: none;\n",
              "  /* unfitted */\n",
              "  color: var(--sklearn-color-unfitted-level-1);\n",
              "  border: var(--sklearn-color-unfitted-level-1) 1pt solid;\n",
              "}\n",
              "\n",
              "#sk-container-id-2 a.estimator_doc_link.fitted {\n",
              "  /* fitted */\n",
              "  border: var(--sklearn-color-fitted-level-1) 1pt solid;\n",
              "  color: var(--sklearn-color-fitted-level-1);\n",
              "}\n",
              "\n",
              "/* On hover */\n",
              "#sk-container-id-2 a.estimator_doc_link:hover {\n",
              "  /* unfitted */\n",
              "  background-color: var(--sklearn-color-unfitted-level-3);\n",
              "  color: var(--sklearn-color-background);\n",
              "  text-decoration: none;\n",
              "}\n",
              "\n",
              "#sk-container-id-2 a.estimator_doc_link.fitted:hover {\n",
              "  /* fitted */\n",
              "  background-color: var(--sklearn-color-fitted-level-3);\n",
              "}\n",
              "</style><div id=\"sk-container-id-2\" class=\"sk-top-container\"><div class=\"sk-text-repr-fallback\"><pre>LinearRegression()</pre><b>In a Jupyter environment, please rerun this cell to show the HTML representation or trust the notebook. <br />On GitHub, the HTML representation is unable to render, please try loading this page with nbviewer.org.</b></div><div class=\"sk-container\" hidden><div class=\"sk-item\"><div class=\"sk-estimator fitted sk-toggleable\"><input class=\"sk-toggleable__control sk-hidden--visually\" id=\"sk-estimator-id-2\" type=\"checkbox\" checked><label for=\"sk-estimator-id-2\" class=\"sk-toggleable__label fitted sk-toggleable__label-arrow fitted\">&nbsp;&nbsp;LinearRegression<a class=\"sk-estimator-doc-link fitted\" rel=\"noreferrer\" target=\"_blank\" href=\"https://scikit-learn.org/1.4/modules/generated/sklearn.linear_model.LinearRegression.html\">?<span>Documentation for LinearRegression</span></a><span class=\"sk-estimator-doc-link fitted\">i<span>Fitted</span></span></label><div class=\"sk-toggleable__content fitted\"><pre>LinearRegression()</pre></div> </div></div></div></div>"
            ],
            "text/plain": [
              "LinearRegression()"
            ]
          },
          "execution_count": 31,
          "metadata": {},
          "output_type": "execute_result"
        }
      ],
      "source": [
        "model.fit(X_train, Y_train)"
      ]
    },
    {
      "cell_type": "code",
      "execution_count": null,
      "metadata": {
        "id": "_QYW5LiL8Wiz"
      },
      "outputs": [],
      "source": [
        "predictions = model.predict(X_test)"
      ]
    },
    {
      "cell_type": "code",
      "execution_count": null,
      "metadata": {
        "colab": {
          "base_uri": "https://localhost:8080/"
        },
        "id": "ZueqoHpl8gVC",
        "outputId": "2ba09c3f-b349-496c-e16d-50fa01b3f450"
      },
      "outputs": [
        {
          "name": "stdout",
          "output_type": "stream",
          "text": [
            "[159.45290968  81.50858067 113.4868037  128.55153817 126.20403783\n",
            " 141.31818338 165.49416492 124.44197659 113.95389904 122.9965895\n",
            " 113.95492464 174.89529849 132.66890174 159.24793304 118.8791679\n",
            " 122.14315717 150.37153054 161.27175405 152.2792036  162.19946709\n",
            " 145.88372183 118.07669395 180.21729122 178.13331554 123.51701986\n",
            "  98.82914322  76.63486248 119.38435511 113.85027665 159.25706609\n",
            "  93.76037617 120.05334649  88.61086583 114.28801659 112.77954274\n",
            " 144.19518102 118.78252489 115.87334354 144.06409553 113.81864246\n",
            " 100.49676727  89.42842238 120.36720699 110.47635305 146.4894628\n",
            " 119.30321261 110.99311348 111.3386287   96.48139076 123.40842816\n",
            "  79.51413425 115.36111603 121.78896764 114.55367722 120.9074622\n",
            " 117.10612464 152.31198525 182.7735091  196.73570503  91.06670951\n",
            " 101.92097594  87.48443506  94.33158785 119.17357764 121.8935122\n",
            " 125.85678089 163.2699701  122.91100556 113.55098736 104.06905043\n",
            " 155.16775229 176.87972077 125.62460858 113.85896766 119.69577146\n",
            " 120.03159609 117.85194226 118.35897733 113.72954121 129.97412373\n",
            " 121.74279861 104.64163725 117.17374823 126.31757797  94.63054496\n",
            "  88.6429881  173.79414659 123.3889615  121.11367109 106.85139516\n",
            " 102.43120839  75.64721451 160.63204133 116.53485791 123.43284852\n",
            " 128.90964962 141.9754171   94.90681665 140.59107397 150.88254462\n",
            " 120.61400122 126.18758167 126.15751557 117.79050312 120.23630249\n",
            "  96.07847005 108.46289277 160.74032164 149.25506194 116.90461024\n",
            " 101.89683477  78.55100685 113.55252108 121.86482779 111.50766509\n",
            " 119.97033408 144.93538115 150.48099293 120.46444466 148.63103233\n",
            " 102.36169588 113.04232004 116.67313346 114.17074491 111.72097362\n",
            " 149.60529086 103.27069375 162.8243783  127.26240013 159.3553434\n",
            " 122.69414947 123.01751489 121.65730575 114.16407868 119.73006341\n",
            " 121.6690294  110.41148326  93.51351227 120.88718035 105.29371566\n",
            " 105.74311748 121.82956746 123.37061551 104.36058862 124.41163091\n",
            " 157.15019835  90.2875932  111.75426942 116.24341673 129.71742482\n",
            " 122.66204747  86.86560029 125.58104783 149.1558729   93.20088142\n",
            " 113.41951717 114.76473252 174.20857764 111.54818695 112.26438102\n",
            " 124.60042052 149.13827841  92.28668121  96.62221445 120.33971987\n",
            " 181.05999744 122.20840259 116.75008011  99.19024942 119.31093226\n",
            " 153.69884139 117.41344481 116.04572722  88.49265654 201.18121904\n",
            " 112.70327442  95.90817139 110.27893385 110.79239714 124.15722345\n",
            "  91.40940976  99.25381492 118.22481586 111.46207587 120.21558021\n",
            " 123.73713755 116.59830111 149.21680142 157.42793857 121.43291003\n",
            " 118.67130713 145.28995075 111.46213774 173.82514998 106.34128071\n",
            " 112.64167754 202.03133513 121.34066544 123.19875899 162.56606178\n",
            " 111.96236108 116.9192883  110.19610625 111.5230842  143.44486659\n",
            " 113.74396159 111.96962888 116.62448493 100.72432155 105.04545753\n",
            " 119.94849788  96.83170431  95.42249477 143.72420099 111.70859517\n",
            " 145.44386748 112.09462627 159.67384334  90.69074117 113.87973255\n",
            " 117.10614529 120.83182786 116.0398794  156.17508598 100.41143402\n",
            " 138.51120883 122.80981088 121.73144105 111.22063915 145.12280834\n",
            " 119.62835114 118.93736976 121.12559311 123.49477293 119.45384482\n",
            " 121.68552767 122.79803947  89.85590671 127.5285141  143.49374375\n",
            "  89.13511679 163.81560356 150.56348474 125.36238887 157.29133434\n",
            " 118.5962307  114.76924715 110.41074389  99.27940825 129.19134616\n",
            " 104.91019759 164.50553141 124.27951869 127.94576049 126.33265293\n",
            " 152.92260953  91.02635368 180.12688271 121.33206179 123.3805987\n",
            "  92.93820488 118.91049021 167.74751536  95.97626635 112.07153519\n",
            " 105.48610035  82.39309463 129.36811507 147.6260147  145.12559953\n",
            "  81.06850359 145.72494054 125.0873386  123.29241873 121.55626896\n",
            " 106.21901712 144.37736667 117.65217212 123.67398912 119.81906032\n",
            " 146.09219012 121.31201565 143.70780585  96.75332067 121.04949103\n",
            " 118.85801666  95.85724353  95.7005734  122.83735573 120.23931521\n",
            " 114.752374   111.3848162  122.11769927 123.70751131 118.59965555\n",
            " 144.90842651  99.26420076 122.09583773 109.34073179  97.6923005\n",
            " 103.82858753  82.17668901 108.48564656  94.58386165  99.36237847\n",
            " 127.92063336 154.53006174  94.83214737 120.56119213 125.27193692\n",
            " 123.741244   123.153979   110.65471319  93.77130654 144.04886361\n",
            " 118.70953745 111.64287284 159.07092617 116.22058371  89.59449933\n",
            " 125.3954476   93.77796895 155.10683142 119.70840177 120.89033884\n",
            " 150.21060248 112.07266487 112.17031901 103.40785949 121.88973962\n",
            "  79.39417285 111.32332444 129.57981579 121.20050645  97.51862149\n",
            " 138.03369157 117.14618729 120.79220009 147.4118315  149.15097787\n",
            " 115.34630618 156.03123936 125.80296997 150.0364708  125.49592695\n",
            " 152.08236215 113.66641537 120.94533895 160.95425308 116.80893399\n",
            " 125.33117629 157.17971833 120.4838592  125.66320966 147.16276169\n",
            " 141.23191504 127.86839214 116.49844827 113.86003172 125.56616732\n",
            "  93.7151239  119.91858182 143.5779658  110.49294691 111.56151552\n",
            " 153.32389533 117.5161175  159.14273208 130.61792167 120.47996196\n",
            " 140.69432122 162.0360364  113.23249654 115.78985464 153.13016467\n",
            "  87.59723109 120.75954152 129.37236482 125.08256637 124.47800179\n",
            " 122.52210381  94.36181387 142.56208797 104.65794024 145.68266189\n",
            "  93.1734386  104.70960227 116.54046577 120.5260613  120.44862385\n",
            "  94.68963425 120.59695494 154.15009906 117.18925871 156.49657478\n",
            " 123.86401547 110.41664959 124.85086427 100.6794172   94.36971456\n",
            " 105.71510695 122.36927215  79.9786057  126.70980467 152.88190713\n",
            " 114.88722911 114.97966394 119.08904866 116.79453493 122.84487067\n",
            " 120.91030351 120.88673239 105.0696433  191.90883411 122.59664436\n",
            " 116.62755088  77.84989594 124.65745662 143.2709885  120.37043229\n",
            " 121.03655506  94.50745135 111.36682253 119.75471172 112.48632277\n",
            "  79.13563026 142.62965128 121.89588529 113.07538385  88.3918062\n",
            " 114.03342237 163.40511021 125.20580519 152.11443433 113.25319918\n",
            " 118.62431992 117.28641957 104.68078767 118.41921617 126.05035311\n",
            " 120.41292474 100.69533386 143.8328044  121.01265419 160.52275467\n",
            " 149.57414181 108.42224119 120.97109044 158.885207   118.21457812\n",
            " 158.11607219 143.83779103 120.47800019 159.86639242 111.24045013\n",
            " 126.4542079  144.93505484 106.94838427]\n"
          ]
        }
      ],
      "source": [
        "print(predictions)"
      ]
    },
    {
      "cell_type": "code",
      "execution_count": null,
      "metadata": {
        "colab": {
          "base_uri": "https://localhost:8080/"
        },
        "id": "SxAQdY0z8rz-",
        "outputId": "6a3d25e7-374c-411e-a055-4a9def8a6c3f"
      },
      "outputs": [
        {
          "name": "stdout",
          "output_type": "stream",
          "text": [
            "R squared error :  0.8657886565869237\n"
          ]
        }
      ],
      "source": [
        "error2 = metrics.r2_score(Y_test, predictions)\n",
        "print(\"R squared error : \", error2)"
      ]
    },
    {
      "cell_type": "code",
      "execution_count": null,
      "metadata": {
        "colab": {
          "base_uri": "https://localhost:8080/",
          "height": 206
        },
        "id": "Z3AQPR-nB35q",
        "outputId": "f4241392-0b70-402b-b99c-45d9c17c6b0f"
      },
      "outputs": [
        {
          "data": {
            "text/html": [
              "<div>\n",
              "<style scoped>\n",
              "    .dataframe tbody tr th:only-of-type {\n",
              "        vertical-align: middle;\n",
              "    }\n",
              "\n",
              "    .dataframe tbody tr th {\n",
              "        vertical-align: top;\n",
              "    }\n",
              "\n",
              "    .dataframe thead th {\n",
              "        text-align: right;\n",
              "    }\n",
              "</style>\n",
              "<table border=\"1\" class=\"dataframe\">\n",
              "  <thead>\n",
              "    <tr style=\"text-align: right;\">\n",
              "      <th></th>\n",
              "      <th>SPX</th>\n",
              "      <th>USO</th>\n",
              "      <th>SLV</th>\n",
              "      <th>EUR/USD</th>\n",
              "    </tr>\n",
              "  </thead>\n",
              "  <tbody>\n",
              "    <tr>\n",
              "      <th>903</th>\n",
              "      <td>1351.949951</td>\n",
              "      <td>38.330002</td>\n",
              "      <td>32.900002</td>\n",
              "      <td>1.324854</td>\n",
              "    </tr>\n",
              "    <tr>\n",
              "      <th>129</th>\n",
              "      <td>1271.510010</td>\n",
              "      <td>93.900002</td>\n",
              "      <td>13.450000</td>\n",
              "      <td>1.472581</td>\n",
              "    </tr>\n",
              "    <tr>\n",
              "      <th>1787</th>\n",
              "      <td>1880.050049</td>\n",
              "      <td>8.910000</td>\n",
              "      <td>14.340000</td>\n",
              "      <td>1.119996</td>\n",
              "    </tr>\n",
              "    <tr>\n",
              "      <th>1913</th>\n",
              "      <td>2181.300049</td>\n",
              "      <td>10.960000</td>\n",
              "      <td>18.620001</td>\n",
              "      <td>1.127142</td>\n",
              "    </tr>\n",
              "    <tr>\n",
              "      <th>2048</th>\n",
              "      <td>2352.949951</td>\n",
              "      <td>10.680000</td>\n",
              "      <td>17.320000</td>\n",
              "      <td>1.067247</td>\n",
              "    </tr>\n",
              "  </tbody>\n",
              "</table>\n",
              "</div>"
            ],
            "text/plain": [
              "              SPX        USO        SLV   EUR/USD\n",
              "903   1351.949951  38.330002  32.900002  1.324854\n",
              "129   1271.510010  93.900002  13.450000  1.472581\n",
              "1787  1880.050049   8.910000  14.340000  1.119996\n",
              "1913  2181.300049  10.960000  18.620001  1.127142\n",
              "2048  2352.949951  10.680000  17.320000  1.067247"
            ]
          },
          "execution_count": 35,
          "metadata": {},
          "output_type": "execute_result"
        }
      ],
      "source": [
        "X_test.head()"
      ]
    },
    {
      "cell_type": "code",
      "execution_count": null,
      "metadata": {
        "id": "KMNT0fNoA062"
      },
      "outputs": [],
      "source": [
        "from sklearn.ensemble import GradientBoostingRegressor"
      ]
    },
    {
      "cell_type": "markdown",
      "metadata": {
        "id": "EgWZpzuaI2S-"
      },
      "source": [
        "n_estimators=100: This parameter specifies the number of trees (individual models) that will be used in the gradient boosting process. In this case, n_estimators=100 means that the algorithm will create 100 trees.\n",
        "\n",
        "learning_rate=0.1: The learning rate controls the contribution of each tree in the model. A lower learning rate makes the model more robust by slowing down the learning process, preventing overfitting. Here, learning_rate=0.1 means that each tree's contribution to the model will be relatively conservative.\n",
        "\n",
        "max_depth=3: This parameter determines the maximum depth of each individual tree in the model. The depth of a tree represents how many splits it can make before reaching a prediction. A lower max_depth helps prevent overfitting. Here, max_depth=3 means that each tree can have a maximum depth of 3 levels."
      ]
    },
    {
      "cell_type": "code",
      "execution_count": null,
      "metadata": {
        "id": "BjIdJOLhBgok"
      },
      "outputs": [],
      "source": [
        "gb_regressor = GradientBoostingRegressor(n_estimators=100, learning_rate=0.1, max_depth=3, random_state=42)\n"
      ]
    },
    {
      "cell_type": "markdown",
      "metadata": {
        "id": "ZbyS5MHuLcWC"
      },
      "source": [
        "Gradient Boosting: Gradient boosting is a specific type of boosting algorithm that works by combining multiple decision trees sequentially. Each new tree tries to correct the errors made by the previous trees. It's like having a team of people working on a task, where each person learns from the mistakes of the previous person and improves upon it."
      ]
    },
    {
      "cell_type": "code",
      "execution_count": null,
      "metadata": {
        "colab": {
          "base_uri": "https://localhost:8080/",
          "height": 74
        },
        "id": "jeFX1mKCB3wI",
        "outputId": "7536e48f-0d25-4d97-b33b-dbe6955bde12"
      },
      "outputs": [
        {
          "data": {
            "text/html": [
              "<style>#sk-container-id-3 {\n",
              "  /* Definition of color scheme common for light and dark mode */\n",
              "  --sklearn-color-text: black;\n",
              "  --sklearn-color-line: gray;\n",
              "  /* Definition of color scheme for unfitted estimators */\n",
              "  --sklearn-color-unfitted-level-0: #fff5e6;\n",
              "  --sklearn-color-unfitted-level-1: #f6e4d2;\n",
              "  --sklearn-color-unfitted-level-2: #ffe0b3;\n",
              "  --sklearn-color-unfitted-level-3: chocolate;\n",
              "  /* Definition of color scheme for fitted estimators */\n",
              "  --sklearn-color-fitted-level-0: #f0f8ff;\n",
              "  --sklearn-color-fitted-level-1: #d4ebff;\n",
              "  --sklearn-color-fitted-level-2: #b3dbfd;\n",
              "  --sklearn-color-fitted-level-3: cornflowerblue;\n",
              "\n",
              "  /* Specific color for light theme */\n",
              "  --sklearn-color-text-on-default-background: var(--sg-text-color, var(--theme-code-foreground, var(--jp-content-font-color1, black)));\n",
              "  --sklearn-color-background: var(--sg-background-color, var(--theme-background, var(--jp-layout-color0, white)));\n",
              "  --sklearn-color-border-box: var(--sg-text-color, var(--theme-code-foreground, var(--jp-content-font-color1, black)));\n",
              "  --sklearn-color-icon: #696969;\n",
              "\n",
              "  @media (prefers-color-scheme: dark) {\n",
              "    /* Redefinition of color scheme for dark theme */\n",
              "    --sklearn-color-text-on-default-background: var(--sg-text-color, var(--theme-code-foreground, var(--jp-content-font-color1, white)));\n",
              "    --sklearn-color-background: var(--sg-background-color, var(--theme-background, var(--jp-layout-color0, #111)));\n",
              "    --sklearn-color-border-box: var(--sg-text-color, var(--theme-code-foreground, var(--jp-content-font-color1, white)));\n",
              "    --sklearn-color-icon: #878787;\n",
              "  }\n",
              "}\n",
              "\n",
              "#sk-container-id-3 {\n",
              "  color: var(--sklearn-color-text);\n",
              "}\n",
              "\n",
              "#sk-container-id-3 pre {\n",
              "  padding: 0;\n",
              "}\n",
              "\n",
              "#sk-container-id-3 input.sk-hidden--visually {\n",
              "  border: 0;\n",
              "  clip: rect(1px 1px 1px 1px);\n",
              "  clip: rect(1px, 1px, 1px, 1px);\n",
              "  height: 1px;\n",
              "  margin: -1px;\n",
              "  overflow: hidden;\n",
              "  padding: 0;\n",
              "  position: absolute;\n",
              "  width: 1px;\n",
              "}\n",
              "\n",
              "#sk-container-id-3 div.sk-dashed-wrapped {\n",
              "  border: 1px dashed var(--sklearn-color-line);\n",
              "  margin: 0 0.4em 0.5em 0.4em;\n",
              "  box-sizing: border-box;\n",
              "  padding-bottom: 0.4em;\n",
              "  background-color: var(--sklearn-color-background);\n",
              "}\n",
              "\n",
              "#sk-container-id-3 div.sk-container {\n",
              "  /* jupyter's `normalize.less` sets `[hidden] { display: none; }`\n",
              "     but bootstrap.min.css set `[hidden] { display: none !important; }`\n",
              "     so we also need the `!important` here to be able to override the\n",
              "     default hidden behavior on the sphinx rendered scikit-learn.org.\n",
              "     See: https://github.com/scikit-learn/scikit-learn/issues/21755 */\n",
              "  display: inline-block !important;\n",
              "  position: relative;\n",
              "}\n",
              "\n",
              "#sk-container-id-3 div.sk-text-repr-fallback {\n",
              "  display: none;\n",
              "}\n",
              "\n",
              "div.sk-parallel-item,\n",
              "div.sk-serial,\n",
              "div.sk-item {\n",
              "  /* draw centered vertical line to link estimators */\n",
              "  background-image: linear-gradient(var(--sklearn-color-text-on-default-background), var(--sklearn-color-text-on-default-background));\n",
              "  background-size: 2px 100%;\n",
              "  background-repeat: no-repeat;\n",
              "  background-position: center center;\n",
              "}\n",
              "\n",
              "/* Parallel-specific style estimator block */\n",
              "\n",
              "#sk-container-id-3 div.sk-parallel-item::after {\n",
              "  content: \"\";\n",
              "  width: 100%;\n",
              "  border-bottom: 2px solid var(--sklearn-color-text-on-default-background);\n",
              "  flex-grow: 1;\n",
              "}\n",
              "\n",
              "#sk-container-id-3 div.sk-parallel {\n",
              "  display: flex;\n",
              "  align-items: stretch;\n",
              "  justify-content: center;\n",
              "  background-color: var(--sklearn-color-background);\n",
              "  position: relative;\n",
              "}\n",
              "\n",
              "#sk-container-id-3 div.sk-parallel-item {\n",
              "  display: flex;\n",
              "  flex-direction: column;\n",
              "}\n",
              "\n",
              "#sk-container-id-3 div.sk-parallel-item:first-child::after {\n",
              "  align-self: flex-end;\n",
              "  width: 50%;\n",
              "}\n",
              "\n",
              "#sk-container-id-3 div.sk-parallel-item:last-child::after {\n",
              "  align-self: flex-start;\n",
              "  width: 50%;\n",
              "}\n",
              "\n",
              "#sk-container-id-3 div.sk-parallel-item:only-child::after {\n",
              "  width: 0;\n",
              "}\n",
              "\n",
              "/* Serial-specific style estimator block */\n",
              "\n",
              "#sk-container-id-3 div.sk-serial {\n",
              "  display: flex;\n",
              "  flex-direction: column;\n",
              "  align-items: center;\n",
              "  background-color: var(--sklearn-color-background);\n",
              "  padding-right: 1em;\n",
              "  padding-left: 1em;\n",
              "}\n",
              "\n",
              "\n",
              "/* Toggleable style: style used for estimator/Pipeline/ColumnTransformer box that is\n",
              "clickable and can be expanded/collapsed.\n",
              "- Pipeline and ColumnTransformer use this feature and define the default style\n",
              "- Estimators will overwrite some part of the style using the `sk-estimator` class\n",
              "*/\n",
              "\n",
              "/* Pipeline and ColumnTransformer style (default) */\n",
              "\n",
              "#sk-container-id-3 div.sk-toggleable {\n",
              "  /* Default theme specific background. It is overwritten whether we have a\n",
              "  specific estimator or a Pipeline/ColumnTransformer */\n",
              "  background-color: var(--sklearn-color-background);\n",
              "}\n",
              "\n",
              "/* Toggleable label */\n",
              "#sk-container-id-3 label.sk-toggleable__label {\n",
              "  cursor: pointer;\n",
              "  display: block;\n",
              "  width: 100%;\n",
              "  margin-bottom: 0;\n",
              "  padding: 0.5em;\n",
              "  box-sizing: border-box;\n",
              "  text-align: center;\n",
              "}\n",
              "\n",
              "#sk-container-id-3 label.sk-toggleable__label-arrow:before {\n",
              "  /* Arrow on the left of the label */\n",
              "  content: \"▸\";\n",
              "  float: left;\n",
              "  margin-right: 0.25em;\n",
              "  color: var(--sklearn-color-icon);\n",
              "}\n",
              "\n",
              "#sk-container-id-3 label.sk-toggleable__label-arrow:hover:before {\n",
              "  color: var(--sklearn-color-text);\n",
              "}\n",
              "\n",
              "/* Toggleable content - dropdown */\n",
              "\n",
              "#sk-container-id-3 div.sk-toggleable__content {\n",
              "  max-height: 0;\n",
              "  max-width: 0;\n",
              "  overflow: hidden;\n",
              "  text-align: left;\n",
              "  /* unfitted */\n",
              "  background-color: var(--sklearn-color-unfitted-level-0);\n",
              "}\n",
              "\n",
              "#sk-container-id-3 div.sk-toggleable__content.fitted {\n",
              "  /* fitted */\n",
              "  background-color: var(--sklearn-color-fitted-level-0);\n",
              "}\n",
              "\n",
              "#sk-container-id-3 div.sk-toggleable__content pre {\n",
              "  margin: 0.2em;\n",
              "  border-radius: 0.25em;\n",
              "  color: var(--sklearn-color-text);\n",
              "  /* unfitted */\n",
              "  background-color: var(--sklearn-color-unfitted-level-0);\n",
              "}\n",
              "\n",
              "#sk-container-id-3 div.sk-toggleable__content.fitted pre {\n",
              "  /* unfitted */\n",
              "  background-color: var(--sklearn-color-fitted-level-0);\n",
              "}\n",
              "\n",
              "#sk-container-id-3 input.sk-toggleable__control:checked~div.sk-toggleable__content {\n",
              "  /* Expand drop-down */\n",
              "  max-height: 200px;\n",
              "  max-width: 100%;\n",
              "  overflow: auto;\n",
              "}\n",
              "\n",
              "#sk-container-id-3 input.sk-toggleable__control:checked~label.sk-toggleable__label-arrow:before {\n",
              "  content: \"▾\";\n",
              "}\n",
              "\n",
              "/* Pipeline/ColumnTransformer-specific style */\n",
              "\n",
              "#sk-container-id-3 div.sk-label input.sk-toggleable__control:checked~label.sk-toggleable__label {\n",
              "  color: var(--sklearn-color-text);\n",
              "  background-color: var(--sklearn-color-unfitted-level-2);\n",
              "}\n",
              "\n",
              "#sk-container-id-3 div.sk-label.fitted input.sk-toggleable__control:checked~label.sk-toggleable__label {\n",
              "  background-color: var(--sklearn-color-fitted-level-2);\n",
              "}\n",
              "\n",
              "/* Estimator-specific style */\n",
              "\n",
              "/* Colorize estimator box */\n",
              "#sk-container-id-3 div.sk-estimator input.sk-toggleable__control:checked~label.sk-toggleable__label {\n",
              "  /* unfitted */\n",
              "  background-color: var(--sklearn-color-unfitted-level-2);\n",
              "}\n",
              "\n",
              "#sk-container-id-3 div.sk-estimator.fitted input.sk-toggleable__control:checked~label.sk-toggleable__label {\n",
              "  /* fitted */\n",
              "  background-color: var(--sklearn-color-fitted-level-2);\n",
              "}\n",
              "\n",
              "#sk-container-id-3 div.sk-label label.sk-toggleable__label,\n",
              "#sk-container-id-3 div.sk-label label {\n",
              "  /* The background is the default theme color */\n",
              "  color: var(--sklearn-color-text-on-default-background);\n",
              "}\n",
              "\n",
              "/* On hover, darken the color of the background */\n",
              "#sk-container-id-3 div.sk-label:hover label.sk-toggleable__label {\n",
              "  color: var(--sklearn-color-text);\n",
              "  background-color: var(--sklearn-color-unfitted-level-2);\n",
              "}\n",
              "\n",
              "/* Label box, darken color on hover, fitted */\n",
              "#sk-container-id-3 div.sk-label.fitted:hover label.sk-toggleable__label.fitted {\n",
              "  color: var(--sklearn-color-text);\n",
              "  background-color: var(--sklearn-color-fitted-level-2);\n",
              "}\n",
              "\n",
              "/* Estimator label */\n",
              "\n",
              "#sk-container-id-3 div.sk-label label {\n",
              "  font-family: monospace;\n",
              "  font-weight: bold;\n",
              "  display: inline-block;\n",
              "  line-height: 1.2em;\n",
              "}\n",
              "\n",
              "#sk-container-id-3 div.sk-label-container {\n",
              "  text-align: center;\n",
              "}\n",
              "\n",
              "/* Estimator-specific */\n",
              "#sk-container-id-3 div.sk-estimator {\n",
              "  font-family: monospace;\n",
              "  border: 1px dotted var(--sklearn-color-border-box);\n",
              "  border-radius: 0.25em;\n",
              "  box-sizing: border-box;\n",
              "  margin-bottom: 0.5em;\n",
              "  /* unfitted */\n",
              "  background-color: var(--sklearn-color-unfitted-level-0);\n",
              "}\n",
              "\n",
              "#sk-container-id-3 div.sk-estimator.fitted {\n",
              "  /* fitted */\n",
              "  background-color: var(--sklearn-color-fitted-level-0);\n",
              "}\n",
              "\n",
              "/* on hover */\n",
              "#sk-container-id-3 div.sk-estimator:hover {\n",
              "  /* unfitted */\n",
              "  background-color: var(--sklearn-color-unfitted-level-2);\n",
              "}\n",
              "\n",
              "#sk-container-id-3 div.sk-estimator.fitted:hover {\n",
              "  /* fitted */\n",
              "  background-color: var(--sklearn-color-fitted-level-2);\n",
              "}\n",
              "\n",
              "/* Specification for estimator info (e.g. \"i\" and \"?\") */\n",
              "\n",
              "/* Common style for \"i\" and \"?\" */\n",
              "\n",
              ".sk-estimator-doc-link,\n",
              "a:link.sk-estimator-doc-link,\n",
              "a:visited.sk-estimator-doc-link {\n",
              "  float: right;\n",
              "  font-size: smaller;\n",
              "  line-height: 1em;\n",
              "  font-family: monospace;\n",
              "  background-color: var(--sklearn-color-background);\n",
              "  border-radius: 1em;\n",
              "  height: 1em;\n",
              "  width: 1em;\n",
              "  text-decoration: none !important;\n",
              "  margin-left: 1ex;\n",
              "  /* unfitted */\n",
              "  border: var(--sklearn-color-unfitted-level-1) 1pt solid;\n",
              "  color: var(--sklearn-color-unfitted-level-1);\n",
              "}\n",
              "\n",
              ".sk-estimator-doc-link.fitted,\n",
              "a:link.sk-estimator-doc-link.fitted,\n",
              "a:visited.sk-estimator-doc-link.fitted {\n",
              "  /* fitted */\n",
              "  border: var(--sklearn-color-fitted-level-1) 1pt solid;\n",
              "  color: var(--sklearn-color-fitted-level-1);\n",
              "}\n",
              "\n",
              "/* On hover */\n",
              "div.sk-estimator:hover .sk-estimator-doc-link:hover,\n",
              ".sk-estimator-doc-link:hover,\n",
              "div.sk-label-container:hover .sk-estimator-doc-link:hover,\n",
              ".sk-estimator-doc-link:hover {\n",
              "  /* unfitted */\n",
              "  background-color: var(--sklearn-color-unfitted-level-3);\n",
              "  color: var(--sklearn-color-background);\n",
              "  text-decoration: none;\n",
              "}\n",
              "\n",
              "div.sk-estimator.fitted:hover .sk-estimator-doc-link.fitted:hover,\n",
              ".sk-estimator-doc-link.fitted:hover,\n",
              "div.sk-label-container:hover .sk-estimator-doc-link.fitted:hover,\n",
              ".sk-estimator-doc-link.fitted:hover {\n",
              "  /* fitted */\n",
              "  background-color: var(--sklearn-color-fitted-level-3);\n",
              "  color: var(--sklearn-color-background);\n",
              "  text-decoration: none;\n",
              "}\n",
              "\n",
              "/* Span, style for the box shown on hovering the info icon */\n",
              ".sk-estimator-doc-link span {\n",
              "  display: none;\n",
              "  z-index: 9999;\n",
              "  position: relative;\n",
              "  font-weight: normal;\n",
              "  right: .2ex;\n",
              "  padding: .5ex;\n",
              "  margin: .5ex;\n",
              "  width: min-content;\n",
              "  min-width: 20ex;\n",
              "  max-width: 50ex;\n",
              "  color: var(--sklearn-color-text);\n",
              "  box-shadow: 2pt 2pt 4pt #999;\n",
              "  /* unfitted */\n",
              "  background: var(--sklearn-color-unfitted-level-0);\n",
              "  border: .5pt solid var(--sklearn-color-unfitted-level-3);\n",
              "}\n",
              "\n",
              ".sk-estimator-doc-link.fitted span {\n",
              "  /* fitted */\n",
              "  background: var(--sklearn-color-fitted-level-0);\n",
              "  border: var(--sklearn-color-fitted-level-3);\n",
              "}\n",
              "\n",
              ".sk-estimator-doc-link:hover span {\n",
              "  display: block;\n",
              "}\n",
              "\n",
              "/* \"?\"-specific style due to the `<a>` HTML tag */\n",
              "\n",
              "#sk-container-id-3 a.estimator_doc_link {\n",
              "  float: right;\n",
              "  font-size: 1rem;\n",
              "  line-height: 1em;\n",
              "  font-family: monospace;\n",
              "  background-color: var(--sklearn-color-background);\n",
              "  border-radius: 1rem;\n",
              "  height: 1rem;\n",
              "  width: 1rem;\n",
              "  text-decoration: none;\n",
              "  /* unfitted */\n",
              "  color: var(--sklearn-color-unfitted-level-1);\n",
              "  border: var(--sklearn-color-unfitted-level-1) 1pt solid;\n",
              "}\n",
              "\n",
              "#sk-container-id-3 a.estimator_doc_link.fitted {\n",
              "  /* fitted */\n",
              "  border: var(--sklearn-color-fitted-level-1) 1pt solid;\n",
              "  color: var(--sklearn-color-fitted-level-1);\n",
              "}\n",
              "\n",
              "/* On hover */\n",
              "#sk-container-id-3 a.estimator_doc_link:hover {\n",
              "  /* unfitted */\n",
              "  background-color: var(--sklearn-color-unfitted-level-3);\n",
              "  color: var(--sklearn-color-background);\n",
              "  text-decoration: none;\n",
              "}\n",
              "\n",
              "#sk-container-id-3 a.estimator_doc_link.fitted:hover {\n",
              "  /* fitted */\n",
              "  background-color: var(--sklearn-color-fitted-level-3);\n",
              "}\n",
              "</style><div id=\"sk-container-id-3\" class=\"sk-top-container\"><div class=\"sk-text-repr-fallback\"><pre>GradientBoostingRegressor(random_state=42)</pre><b>In a Jupyter environment, please rerun this cell to show the HTML representation or trust the notebook. <br />On GitHub, the HTML representation is unable to render, please try loading this page with nbviewer.org.</b></div><div class=\"sk-container\" hidden><div class=\"sk-item\"><div class=\"sk-estimator fitted sk-toggleable\"><input class=\"sk-toggleable__control sk-hidden--visually\" id=\"sk-estimator-id-3\" type=\"checkbox\" checked><label for=\"sk-estimator-id-3\" class=\"sk-toggleable__label fitted sk-toggleable__label-arrow fitted\">&nbsp;&nbsp;GradientBoostingRegressor<a class=\"sk-estimator-doc-link fitted\" rel=\"noreferrer\" target=\"_blank\" href=\"https://scikit-learn.org/1.4/modules/generated/sklearn.ensemble.GradientBoostingRegressor.html\">?<span>Documentation for GradientBoostingRegressor</span></a><span class=\"sk-estimator-doc-link fitted\">i<span>Fitted</span></span></label><div class=\"sk-toggleable__content fitted\"><pre>GradientBoostingRegressor(random_state=42)</pre></div> </div></div></div></div>"
            ],
            "text/plain": [
              "GradientBoostingRegressor(random_state=42)"
            ]
          },
          "execution_count": 38,
          "metadata": {},
          "output_type": "execute_result"
        }
      ],
      "source": [
        "gb_regressor.fit(X_train, Y_train)"
      ]
    },
    {
      "cell_type": "code",
      "execution_count": null,
      "metadata": {
        "id": "GF1dTJM0MOpz"
      },
      "outputs": [],
      "source": [
        "pred = gb_regressor.predict(X_test)"
      ]
    },
    {
      "cell_type": "code",
      "execution_count": null,
      "metadata": {
        "colab": {
          "base_uri": "https://localhost:8080/"
        },
        "id": "IcbzgMOwMb8K",
        "outputId": "8fdc259d-75a2-46c3-d362-71ac47bdd33a"
      },
      "outputs": [
        {
          "name": "stdout",
          "output_type": "stream",
          "text": [
            "R squared error :  0.9764535924638388\n"
          ]
        }
      ],
      "source": [
        "error3 = metrics.r2_score(Y_test, pred)\n",
        "print(\"R squared error : \", error3)"
      ]
    },
    {
      "cell_type": "markdown",
      "metadata": {
        "id": "ZkJEgyNXMrKv"
      },
      "source": [
        "randomforestregressor: # R squared error\n",
        "error_score = metrics.r2_score(Y_test, test_data_prediction)\n",
        "print(\"R squared error : \", error_score)\n",
        "output: R squared error :  0.989023003473952\n",
        "\n",
        "linear regressor : R squared error  output =:  0.8657886565869237\n",
        "\n",
        "GradientBoostRegressor : Output : 0.9764535924638388"
      ]
    },
    {
      "cell_type": "code",
      "execution_count": null,
      "metadata": {
        "colab": {
          "base_uri": "https://localhost:8080/"
        },
        "id": "VvFoGMS_QNHb",
        "outputId": "eadf0b3c-05f0-4d79-9214-4eb2e906a207"
      },
      "outputs": [
        {
          "name": "stdout",
          "output_type": "stream",
          "text": [
            "Requirement already satisfied: pmdarima in c:\\users\\vaish\\appdata\\local\\programs\\python\\python312\\lib\\site-packages (2.0.4)Note: you may need to restart the kernel to use updated packages.\n",
            "\n",
            "Requirement already satisfied: joblib>=0.11 in c:\\users\\vaish\\appdata\\local\\programs\\python\\python312\\lib\\site-packages (from pmdarima) (1.4.0)\n",
            "Requirement already satisfied: Cython!=0.29.18,!=0.29.31,>=0.29 in c:\\users\\vaish\\appdata\\local\\programs\\python\\python312\\lib\\site-packages (from pmdarima) (3.0.10)\n",
            "Requirement already satisfied: numpy>=1.21.2 in c:\\users\\vaish\\appdata\\local\\programs\\python\\python312\\lib\\site-packages (from pmdarima) (1.26.4)\n",
            "Requirement already satisfied: pandas>=0.19 in c:\\users\\vaish\\appdata\\local\\programs\\python\\python312\\lib\\site-packages (from pmdarima) (2.2.2)\n",
            "Requirement already satisfied: scikit-learn>=0.22 in c:\\users\\vaish\\appdata\\local\\programs\\python\\python312\\lib\\site-packages (from pmdarima) (1.4.2)\n",
            "Requirement already satisfied: scipy>=1.3.2 in c:\\users\\vaish\\appdata\\local\\programs\\python\\python312\\lib\\site-packages (from pmdarima) (1.13.0)\n",
            "Requirement already satisfied: statsmodels>=0.13.2 in c:\\users\\vaish\\appdata\\local\\programs\\python\\python312\\lib\\site-packages (from pmdarima) (0.14.2)\n",
            "Requirement already satisfied: urllib3 in c:\\users\\vaish\\appdata\\local\\programs\\python\\python312\\lib\\site-packages (from pmdarima) (2.2.1)\n",
            "Requirement already satisfied: setuptools!=50.0.0,>=38.6.0 in c:\\users\\vaish\\appdata\\local\\programs\\python\\python312\\lib\\site-packages (from pmdarima) (69.5.1)\n",
            "Requirement already satisfied: packaging>=17.1 in c:\\users\\vaish\\appdata\\local\\programs\\python\\python312\\lib\\site-packages (from pmdarima) (24.0)\n",
            "Requirement already satisfied: python-dateutil>=2.8.2 in c:\\users\\vaish\\appdata\\local\\programs\\python\\python312\\lib\\site-packages (from pandas>=0.19->pmdarima) (2.9.0.post0)\n",
            "Requirement already satisfied: pytz>=2020.1 in c:\\users\\vaish\\appdata\\local\\programs\\python\\python312\\lib\\site-packages (from pandas>=0.19->pmdarima) (2024.1)\n",
            "Requirement already satisfied: tzdata>=2022.7 in c:\\users\\vaish\\appdata\\local\\programs\\python\\python312\\lib\\site-packages (from pandas>=0.19->pmdarima) (2024.1)\n",
            "Requirement already satisfied: threadpoolctl>=2.0.0 in c:\\users\\vaish\\appdata\\local\\programs\\python\\python312\\lib\\site-packages (from scikit-learn>=0.22->pmdarima) (3.5.0)\n",
            "Requirement already satisfied: patsy>=0.5.6 in c:\\users\\vaish\\appdata\\local\\programs\\python\\python312\\lib\\site-packages (from statsmodels>=0.13.2->pmdarima) (0.5.6)\n",
            "Requirement already satisfied: six in c:\\users\\vaish\\appdata\\local\\programs\\python\\python312\\lib\\site-packages (from patsy>=0.5.6->statsmodels>=0.13.2->pmdarima) (1.16.0)\n"
          ]
        }
      ],
      "source": [
        "pip install pmdarima"
      ]
    },
    {
      "cell_type": "code",
      "execution_count": null,
      "metadata": {
        "id": "p0zn2QooQCZP"
      },
      "outputs": [],
      "source": [
        "data = pd.read_csv('Untitled spreadsheet - Untitled spreadsheet - final_dataset - gld_price_data - Untitled spreadsheet - Untitled spreadsheet - final_dataset - gld_price_data.csv')"
      ]
    },
    {
      "cell_type": "code",
      "execution_count": null,
      "metadata": {
        "colab": {
          "base_uri": "https://localhost:8080/"
        },
        "id": "HwZoeyHeIVqB",
        "outputId": "002ec143-1be9-4d7d-f1ff-f727c9fabbcb"
      },
      "outputs": [
        {
          "name": "stdout",
          "output_type": "stream",
          "text": [
            "           Date          SPX         GLD        USO      SLV   EUR/USD\n",
            "0      1/2/2013  1447.160034   84.860001  78.470001  15.1800  1.471692\n",
            "1      1/3/2013  1447.160034   85.570000  78.370003  15.2850  1.474491\n",
            "2      1/4/2013  1411.630005   85.129997  77.309998  15.1670  1.475492\n",
            "3      1/7/2013  1416.180054   84.769997  75.500000  15.0530  1.468299\n",
            "4      1/8/2013  1390.189941   86.779999  76.059998  15.5900  1.557099\n",
            "...         ...          ...         ...        ...      ...       ...\n",
            "2285   5/8/2023  2671.919922  124.589996  14.060000  15.5100  1.186789\n",
            "2286   5/9/2023  2697.790039  124.330002  14.370000  15.5300  1.184722\n",
            "2287  5/10/2023  2723.070068  125.180000  14.410000  15.7400  1.191753\n",
            "2288  5/14/2023  2730.129883  124.489998  14.380000  15.5600  1.193118\n",
            "2289  5/16/2023  2725.780029  122.543800  14.405800  15.4542  1.182033\n",
            "\n",
            "[2290 rows x 6 columns]\n"
          ]
        }
      ],
      "source": [
        "print(data)"
      ]
    },
    {
      "cell_type": "code",
      "execution_count": null,
      "metadata": {
        "id": "bg4EivSwSOwl"
      },
      "outputs": [],
      "source": [
        "new_data = data.drop(['SPX', 'USO', 'SLV', 'EUR/USD'], axis=1)"
      ]
    },
    {
      "cell_type": "code",
      "execution_count": null,
      "metadata": {
        "colab": {
          "base_uri": "https://localhost:8080/"
        },
        "id": "HS-HVrjyTGml",
        "outputId": "d5a45aa8-14c5-4d6e-96db-294ad4b50c59"
      },
      "outputs": [
        {
          "name": "stdout",
          "output_type": "stream",
          "text": [
            "           Date         GLD\n",
            "0      1/2/2013   84.860001\n",
            "1      1/3/2013   85.570000\n",
            "2      1/4/2013   85.129997\n",
            "3      1/7/2013   84.769997\n",
            "4      1/8/2013   86.779999\n",
            "...         ...         ...\n",
            "2285   5/8/2023  124.589996\n",
            "2286   5/9/2023  124.330002\n",
            "2287  5/10/2023  125.180000\n",
            "2288  5/14/2023  124.489998\n",
            "2289  5/16/2023  122.543800\n",
            "\n",
            "[2290 rows x 2 columns]\n"
          ]
        }
      ],
      "source": [
        "print(new_data)"
      ]
    },
    {
      "cell_type": "code",
      "execution_count": null,
      "metadata": {
        "colab": {
          "base_uri": "https://localhost:8080/"
        },
        "id": "r6Mxq5o6TPwC",
        "outputId": "954198bd-9a96-4cf5-c3ad-6bf100fc8aba"
      },
      "outputs": [
        {
          "data": {
            "text/plain": [
              "Date    0\n",
              "GLD     0\n",
              "dtype: int64"
            ]
          },
          "execution_count": 46,
          "metadata": {},
          "output_type": "execute_result"
        }
      ],
      "source": [
        "new_data.isnull().sum()"
      ]
    },
    {
      "cell_type": "code",
      "execution_count": null,
      "metadata": {
        "id": "Cgvzq1DDTaiq"
      },
      "outputs": [],
      "source": [
        "new_data.set_index('Date', inplace=True)"
      ]
    },
    {
      "cell_type": "code",
      "execution_count": null,
      "metadata": {
        "colab": {
          "base_uri": "https://localhost:8080/",
          "height": 237
        },
        "id": "Nlnqd6dfTnGq",
        "outputId": "0d44572e-ef57-4d10-ea81-2ea0e7e465ce"
      },
      "outputs": [
        {
          "data": {
            "text/html": [
              "<div>\n",
              "<style scoped>\n",
              "    .dataframe tbody tr th:only-of-type {\n",
              "        vertical-align: middle;\n",
              "    }\n",
              "\n",
              "    .dataframe tbody tr th {\n",
              "        vertical-align: top;\n",
              "    }\n",
              "\n",
              "    .dataframe thead th {\n",
              "        text-align: right;\n",
              "    }\n",
              "</style>\n",
              "<table border=\"1\" class=\"dataframe\">\n",
              "  <thead>\n",
              "    <tr style=\"text-align: right;\">\n",
              "      <th></th>\n",
              "      <th>GLD</th>\n",
              "    </tr>\n",
              "    <tr>\n",
              "      <th>Date</th>\n",
              "      <th></th>\n",
              "    </tr>\n",
              "  </thead>\n",
              "  <tbody>\n",
              "    <tr>\n",
              "      <th>1/2/2013</th>\n",
              "      <td>84.860001</td>\n",
              "    </tr>\n",
              "    <tr>\n",
              "      <th>1/3/2013</th>\n",
              "      <td>85.570000</td>\n",
              "    </tr>\n",
              "    <tr>\n",
              "      <th>1/4/2013</th>\n",
              "      <td>85.129997</td>\n",
              "    </tr>\n",
              "    <tr>\n",
              "      <th>1/7/2013</th>\n",
              "      <td>84.769997</td>\n",
              "    </tr>\n",
              "    <tr>\n",
              "      <th>1/8/2013</th>\n",
              "      <td>86.779999</td>\n",
              "    </tr>\n",
              "  </tbody>\n",
              "</table>\n",
              "</div>"
            ],
            "text/plain": [
              "                GLD\n",
              "Date               \n",
              "1/2/2013  84.860001\n",
              "1/3/2013  85.570000\n",
              "1/4/2013  85.129997\n",
              "1/7/2013  84.769997\n",
              "1/8/2013  86.779999"
            ]
          },
          "execution_count": 48,
          "metadata": {},
          "output_type": "execute_result"
        }
      ],
      "source": [
        "new_data.head()"
      ]
    },
    {
      "cell_type": "code",
      "execution_count": null,
      "metadata": {
        "id": "Wq0RG0ThmKaY"
      },
      "outputs": [],
      "source": []
    },
    {
      "cell_type": "code",
      "execution_count": null,
      "metadata": {
        "colab": {
          "base_uri": "https://localhost:8080/",
          "height": 300
        },
        "id": "V5fPPTfMTtYK",
        "outputId": "f6c20681-04a9-461c-f372-16f46ac1b4c3"
      },
      "outputs": [
        {
          "data": {
            "text/html": [
              "<div>\n",
              "<style scoped>\n",
              "    .dataframe tbody tr th:only-of-type {\n",
              "        vertical-align: middle;\n",
              "    }\n",
              "\n",
              "    .dataframe tbody tr th {\n",
              "        vertical-align: top;\n",
              "    }\n",
              "\n",
              "    .dataframe thead th {\n",
              "        text-align: right;\n",
              "    }\n",
              "</style>\n",
              "<table border=\"1\" class=\"dataframe\">\n",
              "  <thead>\n",
              "    <tr style=\"text-align: right;\">\n",
              "      <th></th>\n",
              "      <th>GLD</th>\n",
              "    </tr>\n",
              "  </thead>\n",
              "  <tbody>\n",
              "    <tr>\n",
              "      <th>count</th>\n",
              "      <td>2290.000000</td>\n",
              "    </tr>\n",
              "    <tr>\n",
              "      <th>mean</th>\n",
              "      <td>122.732875</td>\n",
              "    </tr>\n",
              "    <tr>\n",
              "      <th>std</th>\n",
              "      <td>23.283346</td>\n",
              "    </tr>\n",
              "    <tr>\n",
              "      <th>min</th>\n",
              "      <td>70.000000</td>\n",
              "    </tr>\n",
              "    <tr>\n",
              "      <th>25%</th>\n",
              "      <td>109.725000</td>\n",
              "    </tr>\n",
              "    <tr>\n",
              "      <th>50%</th>\n",
              "      <td>120.580002</td>\n",
              "    </tr>\n",
              "    <tr>\n",
              "      <th>75%</th>\n",
              "      <td>132.840004</td>\n",
              "    </tr>\n",
              "    <tr>\n",
              "      <th>max</th>\n",
              "      <td>184.589996</td>\n",
              "    </tr>\n",
              "  </tbody>\n",
              "</table>\n",
              "</div>"
            ],
            "text/plain": [
              "               GLD\n",
              "count  2290.000000\n",
              "mean    122.732875\n",
              "std      23.283346\n",
              "min      70.000000\n",
              "25%     109.725000\n",
              "50%     120.580002\n",
              "75%     132.840004\n",
              "max     184.589996"
            ]
          },
          "execution_count": 49,
          "metadata": {},
          "output_type": "execute_result"
        }
      ],
      "source": [
        "new_data.describe()"
      ]
    },
    {
      "cell_type": "code",
      "execution_count": null,
      "metadata": {
        "colab": {
          "base_uri": "https://localhost:8080/",
          "height": 466
        },
        "id": "WN0IJ-iqTzWK",
        "outputId": "3f6e2809-f33e-4c2a-8c70-3b843a79254b"
      },
      "outputs": [
        {
          "data": {
            "text/plain": [
              "<Axes: xlabel='Date'>"
            ]
          },
          "execution_count": 50,
          "metadata": {},
          "output_type": "execute_result"
        },
        {
          "data": {
            "image/png": "[encoded data removed]",
            "text/plain": [
              "<Figure size 640x480 with 1 Axes>"
            ]
          },
          "metadata": {},
          "output_type": "display_data"
        }
      ],
      "source": [
        "new_data.plot()"
      ]
    },
    {
      "cell_type": "markdown",
      "metadata": {
        "id": "cGo6NLYAWWmv"
      },
      "source": [
        "Not necessarily. Whether Random Forest regression is better than ARIMA depends on various factors such as the nature of the data, the specific forecasting task, the desired interpretability of the model, and the accuracy required for predictions. Here are some key points to consider:"
      ]
    },
    {
      "cell_type": "code",
      "execution_count": null,
      "metadata": {
        "id": "q9hOf5_fUVNt"
      },
      "outputs": [],
      "source": [
        "### Testing For Stationarity\n",
        "\n",
        "from statsmodels.tsa.stattools import adfuller"
      ]
    },
    {
      "cell_type": "markdown",
      "metadata": {
        "id": "37RZsjwuXaFZ"
      },
      "source": [
        "Augmented Dickey-Fuller (ADF) Test: The ADF test is used to determine whether a time series is stationary or not. Stationarity is an important concept in time series analysis, indicating that the statistical properties of the time series (like mean and variance) remain constant over time."
      ]
    },
    {
      "cell_type": "code",
      "execution_count": null,
      "metadata": {
        "id": "Hm89W9lRXj8B"
      },
      "outputs": [],
      "source": [
        "test_result=adfuller(new_data['GLD'])"
      ]
    },
    {
      "cell_type": "code",
      "execution_count": null,
      "metadata": {
        "id": "yGO4px1SXt0j"
      },
      "outputs": [],
      "source": [
        "#Ho: It is non stationary\n",
        "#H1: It is stationary\n",
        "\n",
        "def adfuller_test(GLD):\n",
        "    result=adfuller(GLD)\n",
        "    labels = ['ADF Test Statistic','p-value','#Lags Used','Number of Observations Used']\n",
        "    for value,label in zip(result,labels):\n",
        "        print(label+' : '+str(value) )\n",
        "    if result[1] <= 0.05:\n",
        "        print(\"strong evidence against the null hypothesis(Ho), reject the null hypothesis. Data has no unit root and is stationary\")\n",
        "    else:\n",
        "        print(\"weak evidence against null hypothesis, time series has a unit root, indicating it is non-stationary \")"
      ]
    },
    {
      "cell_type": "code",
      "execution_count": null,
      "metadata": {
        "colab": {
          "base_uri": "https://localhost:8080/"
        },
        "id": "yS7TH1kpX3YZ",
        "outputId": "1350eb62-7ef7-4df9-8787-c7f2df1cb2a3"
      },
      "outputs": [
        {
          "name": "stdout",
          "output_type": "stream",
          "text": [
            "ADF Test Statistic : -1.6188844282199604\n",
            "p-value : 0.4733141978661497\n",
            "#Lags Used : 27\n",
            "Number of Observations Used : 2262\n",
            "weak evidence against null hypothesis, time series has a unit root, indicating it is non-stationary \n"
          ]
        }
      ],
      "source": [
        "adfuller_test(new_data['GLD'])"
      ]
    },
    {
      "cell_type": "code",
      "execution_count": null,
      "metadata": {
        "id": "kDsEdYKZcVyz"
      },
      "outputs": [],
      "source": [
        "new_data['GLD First Difference'] = new_data['GLD'] - new_data['GLD'].shift(1)"
      ]
    },
    {
      "cell_type": "code",
      "execution_count": null,
      "metadata": {
        "id": "LFzvxRudciW9"
      },
      "outputs": [],
      "source": [
        "new_data['Seasonal First Difference']= new_data['GLD']- new_data['GLD'].shift(12)"
      ]
    },
    {
      "cell_type": "code",
      "execution_count": null,
      "metadata": {
        "colab": {
          "base_uri": "https://localhost:8080/",
          "height": 519
        },
        "id": "qZEegtqrdChD",
        "outputId": "8459e93c-c160-49cd-90ac-4bc15d495244"
      },
      "outputs": [
        {
          "data": {
            "text/html": [
              "<div>\n",
              "<style scoped>\n",
              "    .dataframe tbody tr th:only-of-type {\n",
              "        vertical-align: middle;\n",
              "    }\n",
              "\n",
              "    .dataframe tbody tr th {\n",
              "        vertical-align: top;\n",
              "    }\n",
              "\n",
              "    .dataframe thead th {\n",
              "        text-align: right;\n",
              "    }\n",
              "</style>\n",
              "<table border=\"1\" class=\"dataframe\">\n",
              "  <thead>\n",
              "    <tr style=\"text-align: right;\">\n",
              "      <th></th>\n",
              "      <th>GLD</th>\n",
              "      <th>GLD First Difference</th>\n",
              "      <th>Seasonal First Difference</th>\n",
              "    </tr>\n",
              "    <tr>\n",
              "      <th>Date</th>\n",
              "      <th></th>\n",
              "      <th></th>\n",
              "      <th></th>\n",
              "    </tr>\n",
              "  </thead>\n",
              "  <tbody>\n",
              "    <tr>\n",
              "      <th>1/2/2013</th>\n",
              "      <td>84.860001</td>\n",
              "      <td>NaN</td>\n",
              "      <td>NaN</td>\n",
              "    </tr>\n",
              "    <tr>\n",
              "      <th>1/3/2013</th>\n",
              "      <td>85.570000</td>\n",
              "      <td>0.709999</td>\n",
              "      <td>NaN</td>\n",
              "    </tr>\n",
              "    <tr>\n",
              "      <th>1/4/2013</th>\n",
              "      <td>85.129997</td>\n",
              "      <td>-0.440003</td>\n",
              "      <td>NaN</td>\n",
              "    </tr>\n",
              "    <tr>\n",
              "      <th>1/7/2013</th>\n",
              "      <td>84.769997</td>\n",
              "      <td>-0.360000</td>\n",
              "      <td>NaN</td>\n",
              "    </tr>\n",
              "    <tr>\n",
              "      <th>1/8/2013</th>\n",
              "      <td>86.779999</td>\n",
              "      <td>2.010002</td>\n",
              "      <td>NaN</td>\n",
              "    </tr>\n",
              "    <tr>\n",
              "      <th>1/9/2013</th>\n",
              "      <td>86.550003</td>\n",
              "      <td>-0.229996</td>\n",
              "      <td>NaN</td>\n",
              "    </tr>\n",
              "    <tr>\n",
              "      <th>1/10/2013</th>\n",
              "      <td>88.250000</td>\n",
              "      <td>1.699997</td>\n",
              "      <td>NaN</td>\n",
              "    </tr>\n",
              "    <tr>\n",
              "      <th>1/11/2013</th>\n",
              "      <td>88.580002</td>\n",
              "      <td>0.330002</td>\n",
              "      <td>NaN</td>\n",
              "    </tr>\n",
              "    <tr>\n",
              "      <th>1/14/2013</th>\n",
              "      <td>89.540001</td>\n",
              "      <td>0.959999</td>\n",
              "      <td>NaN</td>\n",
              "    </tr>\n",
              "    <tr>\n",
              "      <th>1/15/2013</th>\n",
              "      <td>87.989998</td>\n",
              "      <td>-1.550003</td>\n",
              "      <td>NaN</td>\n",
              "    </tr>\n",
              "    <tr>\n",
              "      <th>1/16/2013</th>\n",
              "      <td>86.699997</td>\n",
              "      <td>-1.290001</td>\n",
              "      <td>NaN</td>\n",
              "    </tr>\n",
              "    <tr>\n",
              "      <th>1/17/2013</th>\n",
              "      <td>86.500000</td>\n",
              "      <td>-0.199997</td>\n",
              "      <td>NaN</td>\n",
              "    </tr>\n",
              "    <tr>\n",
              "      <th>1/18/2013</th>\n",
              "      <td>87.419998</td>\n",
              "      <td>0.919998</td>\n",
              "      <td>2.559997</td>\n",
              "    </tr>\n",
              "    <tr>\n",
              "      <th>1/22/2013</th>\n",
              "      <td>88.169998</td>\n",
              "      <td>0.750000</td>\n",
              "      <td>2.599998</td>\n",
              "    </tr>\n",
              "  </tbody>\n",
              "</table>\n",
              "</div>"
            ],
            "text/plain": [
              "                 GLD  GLD First Difference  Seasonal First Difference\n",
              "Date                                                                 \n",
              "1/2/2013   84.860001                   NaN                        NaN\n",
              "1/3/2013   85.570000              0.709999                        NaN\n",
              "1/4/2013   85.129997             -0.440003                        NaN\n",
              "1/7/2013   84.769997             -0.360000                        NaN\n",
              "1/8/2013   86.779999              2.010002                        NaN\n",
              "1/9/2013   86.550003             -0.229996                        NaN\n",
              "1/10/2013  88.250000              1.699997                        NaN\n",
              "1/11/2013  88.580002              0.330002                        NaN\n",
              "1/14/2013  89.540001              0.959999                        NaN\n",
              "1/15/2013  87.989998             -1.550003                        NaN\n",
              "1/16/2013  86.699997             -1.290001                        NaN\n",
              "1/17/2013  86.500000             -0.199997                        NaN\n",
              "1/18/2013  87.419998              0.919998                   2.559997\n",
              "1/22/2013  88.169998              0.750000                   2.599998"
            ]
          },
          "execution_count": 57,
          "metadata": {},
          "output_type": "execute_result"
        }
      ],
      "source": [
        "new_data.head(14)"
      ]
    },
    {
      "cell_type": "code",
      "execution_count": null,
      "metadata": {
        "colab": {
          "base_uri": "https://localhost:8080/"
        },
        "id": "Vdk1S6rndLaZ",
        "outputId": "4f68dc0d-81c9-4c02-fe53-cb6e9391d798"
      },
      "outputs": [
        {
          "name": "stdout",
          "output_type": "stream",
          "text": [
            "ADF Test Statistic : -7.293977264318974\n",
            "p-value : 1.3934772452199808e-10\n",
            "#Lags Used : 26\n",
            "Number of Observations Used : 2251\n",
            "strong evidence against the null hypothesis(Ho), reject the null hypothesis. Data has no unit root and is stationary\n"
          ]
        }
      ],
      "source": [
        "adfuller_test(new_data['Seasonal First Difference'].dropna())"
      ]
    },
    {
      "cell_type": "code",
      "execution_count": null,
      "metadata": {
        "colab": {
          "base_uri": "https://localhost:8080/",
          "height": 466
        },
        "id": "Cbm2Pb-3dUTr",
        "outputId": "1c252d11-78d8-454d-9823-6162c2aca545"
      },
      "outputs": [
        {
          "data": {
            "text/plain": [
              "<Axes: xlabel='Date'>"
            ]
          },
          "execution_count": 59,
          "metadata": {},
          "output_type": "execute_result"
        },
        {
          "data": {
            "image/png": "[encoded data removed]",
            "text/plain": [
              "<Figure size 640x480 with 1 Axes>"
            ]
          },
          "metadata": {},
          "output_type": "display_data"
        }
      ],
      "source": [
        "new_data['Seasonal First Difference'].plot()"
      ]
    },
    {
      "cell_type": "code",
      "execution_count": null,
      "metadata": {
        "id": "BHxIkUaFmKaZ"
      },
      "outputs": [],
      "source": []
    },
    {
      "cell_type": "markdown",
      "metadata": {
        "id": "K7uZJ3oQdczL"
      },
      "source": [
        "Auto Regressive Model\n",
        "image.png"
      ]
    },
    {
      "cell_type": "code",
      "execution_count": null,
      "metadata": {
        "colab": {
          "base_uri": "https://localhost:8080/"
        },
        "id": "UUTtBhxKfCTB",
        "outputId": "c5cb62a6-17d6-40e3-91e0-b61b23a3018d"
      },
      "outputs": [
        {
          "name": "stdout",
          "output_type": "stream",
          "text": [
            "Requirement already satisfied: pip in c:\\users\\vaish\\appdata\\local\\programs\\python\\python312\\lib\\site-packages (24.0)\n",
            "Note: you may need to restart the kernel to use updated packages.\n"
          ]
        }
      ],
      "source": [
        "pip install --upgrade pip\n"
      ]
    },
    {
      "cell_type": "code",
      "execution_count": null,
      "metadata": {
        "id": "HZeX8mG0mKaa"
      },
      "outputs": [],
      "source": [
        "from statsmodels.graphics.tsaplots import plot_acf, plot_pacf"
      ]
    },
    {
      "cell_type": "code",
      "execution_count": null,
      "metadata": {
        "id": "X05l7PqRmKaa",
        "outputId": "8d813621-2198-421c-bd0a-80002db51e9a"
      },
      "outputs": [
        {
          "data": {
            "image/png": "[encoded data removed]",
            "text/plain": [
              "<Figure size 640x480 with 1 Axes>"
            ]
          },
          "metadata": {},
          "output_type": "display_data"
        }
      ],
      "source": [
        "acf = plot_acf(new_data[\"GLD First Difference\"].dropna())"
      ]
    },
    {
      "cell_type": "code",
      "execution_count": null,
      "metadata": {
        "id": "zD2ziXZumKaa"
      },
      "outputs": [],
      "source": [
        "#sometimes it works in sarimax instead of arima model"
      ]
    },
    {
      "cell_type": "code",
      "execution_count": null,
      "metadata": {
        "id": "2U-II9TZmKaa",
        "outputId": "c10cf279-e424-4ea7-cee0-dbb5d71a1148"
      },
      "outputs": [
        {
          "data": {
            "image/png": "[encoded data removed]",
            "text/plain": [
              "<Figure size 640x480 with 1 Axes>"
            ]
          },
          "metadata": {},
          "output_type": "display_data"
        }
      ],
      "source": [
        "acf = plot_acf(new_data[\"Seasonal First Difference\"].dropna())\n"
      ]
    },
    {
      "cell_type": "code",
      "execution_count": null,
      "metadata": {
        "id": "9sZp4rg4mKab",
        "outputId": "ebc8b666-a0d1-4473-a560-14c2c8c083aa"
      },
      "outputs": [
        {
          "data": {
            "image/png": "[encoded data removed]",
            "text/plain": [
              "<Figure size 640x480 with 1 Axes>"
            ]
          },
          "metadata": {},
          "output_type": "display_data"
        }
      ],
      "source": [
        "pacf12 = plot_pacf(new_data[\"Seasonal First Difference\"].dropna())\n"
      ]
    },
    {
      "cell_type": "code",
      "execution_count": null,
      "metadata": {
        "id": "cb_TD1E2mKab"
      },
      "outputs": [],
      "source": []
    },
    {
      "cell_type": "code",
      "execution_count": null,
      "metadata": {
        "id": "OQWGUu20mKab",
        "outputId": "8cf4b79b-4806-43ef-e2eb-b5c58798f62f"
      },
      "outputs": [
        {
          "data": {
            "text/html": [
              "<div>\n",
              "<style scoped>\n",
              "    .dataframe tbody tr th:only-of-type {\n",
              "        vertical-align: middle;\n",
              "    }\n",
              "\n",
              "    .dataframe tbody tr th {\n",
              "        vertical-align: top;\n",
              "    }\n",
              "\n",
              "    .dataframe thead th {\n",
              "        text-align: right;\n",
              "    }\n",
              "</style>\n",
              "<table border=\"1\" class=\"dataframe\">\n",
              "  <thead>\n",
              "    <tr style=\"text-align: right;\">\n",
              "      <th></th>\n",
              "      <th>GLD</th>\n",
              "      <th>GLD First Difference</th>\n",
              "      <th>Seasonal First Difference</th>\n",
              "    </tr>\n",
              "    <tr>\n",
              "      <th>Date</th>\n",
              "      <th></th>\n",
              "      <th></th>\n",
              "      <th></th>\n",
              "    </tr>\n",
              "  </thead>\n",
              "  <tbody>\n",
              "    <tr>\n",
              "      <th>1/2/2013</th>\n",
              "      <td>84.860001</td>\n",
              "      <td>NaN</td>\n",
              "      <td>NaN</td>\n",
              "    </tr>\n",
              "    <tr>\n",
              "      <th>1/3/2013</th>\n",
              "      <td>85.570000</td>\n",
              "      <td>0.709999</td>\n",
              "      <td>NaN</td>\n",
              "    </tr>\n",
              "    <tr>\n",
              "      <th>1/4/2013</th>\n",
              "      <td>85.129997</td>\n",
              "      <td>-0.440003</td>\n",
              "      <td>NaN</td>\n",
              "    </tr>\n",
              "    <tr>\n",
              "      <th>1/7/2013</th>\n",
              "      <td>84.769997</td>\n",
              "      <td>-0.360000</td>\n",
              "      <td>NaN</td>\n",
              "    </tr>\n",
              "    <tr>\n",
              "      <th>1/8/2013</th>\n",
              "      <td>86.779999</td>\n",
              "      <td>2.010002</td>\n",
              "      <td>NaN</td>\n",
              "    </tr>\n",
              "    <tr>\n",
              "      <th>...</th>\n",
              "      <td>...</td>\n",
              "      <td>...</td>\n",
              "      <td>...</td>\n",
              "    </tr>\n",
              "    <tr>\n",
              "      <th>5/8/2023</th>\n",
              "      <td>124.589996</td>\n",
              "      <td>0.019996</td>\n",
              "      <td>-3.160004</td>\n",
              "    </tr>\n",
              "    <tr>\n",
              "      <th>5/9/2023</th>\n",
              "      <td>124.330002</td>\n",
              "      <td>-0.259994</td>\n",
              "      <td>-3.519996</td>\n",
              "    </tr>\n",
              "    <tr>\n",
              "      <th>5/10/2023</th>\n",
              "      <td>125.180000</td>\n",
              "      <td>0.849998</td>\n",
              "      <td>-2.419998</td>\n",
              "    </tr>\n",
              "    <tr>\n",
              "      <th>5/14/2023</th>\n",
              "      <td>124.489998</td>\n",
              "      <td>-0.690002</td>\n",
              "      <td>-1.130005</td>\n",
              "    </tr>\n",
              "    <tr>\n",
              "      <th>5/16/2023</th>\n",
              "      <td>122.543800</td>\n",
              "      <td>-1.946198</td>\n",
              "      <td>-3.686203</td>\n",
              "    </tr>\n",
              "  </tbody>\n",
              "</table>\n",
              "<p>2290 rows × 3 columns</p>\n",
              "</div>"
            ],
            "text/plain": [
              "                  GLD  GLD First Difference  Seasonal First Difference\n",
              "Date                                                                  \n",
              "1/2/2013    84.860001                   NaN                        NaN\n",
              "1/3/2013    85.570000              0.709999                        NaN\n",
              "1/4/2013    85.129997             -0.440003                        NaN\n",
              "1/7/2013    84.769997             -0.360000                        NaN\n",
              "1/8/2013    86.779999              2.010002                        NaN\n",
              "...               ...                   ...                        ...\n",
              "5/8/2023   124.589996              0.019996                  -3.160004\n",
              "5/9/2023   124.330002             -0.259994                  -3.519996\n",
              "5/10/2023  125.180000              0.849998                  -2.419998\n",
              "5/14/2023  124.489998             -0.690002                  -1.130005\n",
              "5/16/2023  122.543800             -1.946198                  -3.686203\n",
              "\n",
              "[2290 rows x 3 columns]"
            ]
          },
          "execution_count": 66,
          "metadata": {},
          "output_type": "execute_result"
        }
      ],
      "source": [
        "new_data"
      ]
    },
    {
      "cell_type": "code",
      "execution_count": null,
      "metadata": {
        "id": "fDXGB6KvmKab"
      },
      "outputs": [],
      "source": [
        "# from datetime import datetime, timedelta\n",
        "# train_dataset_end = datetime(2023,5,16)\n",
        "# test_dataset_end = datetime(2025,5,16)\n",
        "new_data.index = pd.to_datetime(new_data.index, format='%m/%d/%Y', errors='coerce')\n",
        "\n",
        "fixed_split_date = datetime(2018, 1, 1)\n",
        "\n",
        "train_data_fixed = new_data[new_data.index <= fixed_split_date]\n",
        "test_data_fixed = new_data[new_data.index > fixed_split_date]\n",
        "\n",
        "\n",
        "\n",
        "pred_start_date = test_data_fixed.index[0]\n",
        "pred_end_date = test_data_fixed.index[-1]"
      ]
    },
    {
      "cell_type": "code",
      "execution_count": null,
      "metadata": {
        "id": "ZbkX9m9lmKab",
        "outputId": "6fe5c738-b906-41b7-d14f-6a3a8f715ae5"
      },
      "outputs": [
        {
          "data": {
            "text/html": [
              "<div>\n",
              "<style scoped>\n",
              "    .dataframe tbody tr th:only-of-type {\n",
              "        vertical-align: middle;\n",
              "    }\n",
              "\n",
              "    .dataframe tbody tr th {\n",
              "        vertical-align: top;\n",
              "    }\n",
              "\n",
              "    .dataframe thead th {\n",
              "        text-align: right;\n",
              "    }\n",
              "</style>\n",
              "<table border=\"1\" class=\"dataframe\">\n",
              "  <thead>\n",
              "    <tr style=\"text-align: right;\">\n",
              "      <th></th>\n",
              "      <th>GLD</th>\n",
              "      <th>GLD First Difference</th>\n",
              "      <th>Seasonal First Difference</th>\n",
              "    </tr>\n",
              "    <tr>\n",
              "      <th>Date</th>\n",
              "      <th></th>\n",
              "      <th></th>\n",
              "      <th></th>\n",
              "    </tr>\n",
              "  </thead>\n",
              "  <tbody>\n",
              "    <tr>\n",
              "      <th>2022-01-03</th>\n",
              "      <td>110.470001</td>\n",
              "      <td>0.860000</td>\n",
              "      <td>1.639999</td>\n",
              "    </tr>\n",
              "    <tr>\n",
              "      <th>2022-01-04</th>\n",
              "      <td>110.860001</td>\n",
              "      <td>0.390000</td>\n",
              "      <td>3.520005</td>\n",
              "    </tr>\n",
              "    <tr>\n",
              "      <th>2022-01-05</th>\n",
              "      <td>112.580002</td>\n",
              "      <td>1.720001</td>\n",
              "      <td>4.529999</td>\n",
              "    </tr>\n",
              "    <tr>\n",
              "      <th>2022-01-06</th>\n",
              "      <td>111.750000</td>\n",
              "      <td>-0.830002</td>\n",
              "      <td>3.160004</td>\n",
              "    </tr>\n",
              "    <tr>\n",
              "      <th>2022-01-09</th>\n",
              "      <td>112.669998</td>\n",
              "      <td>0.919998</td>\n",
              "      <td>4.879997</td>\n",
              "    </tr>\n",
              "    <tr>\n",
              "      <th>...</th>\n",
              "      <td>...</td>\n",
              "      <td>...</td>\n",
              "      <td>...</td>\n",
              "    </tr>\n",
              "    <tr>\n",
              "      <th>2023-05-08</th>\n",
              "      <td>124.589996</td>\n",
              "      <td>0.019996</td>\n",
              "      <td>-3.160004</td>\n",
              "    </tr>\n",
              "    <tr>\n",
              "      <th>2023-05-09</th>\n",
              "      <td>124.330002</td>\n",
              "      <td>-0.259994</td>\n",
              "      <td>-3.519996</td>\n",
              "    </tr>\n",
              "    <tr>\n",
              "      <th>2023-05-10</th>\n",
              "      <td>125.180000</td>\n",
              "      <td>0.849998</td>\n",
              "      <td>-2.419998</td>\n",
              "    </tr>\n",
              "    <tr>\n",
              "      <th>2023-05-14</th>\n",
              "      <td>124.489998</td>\n",
              "      <td>-0.690002</td>\n",
              "      <td>-1.130005</td>\n",
              "    </tr>\n",
              "    <tr>\n",
              "      <th>2023-05-16</th>\n",
              "      <td>122.543800</td>\n",
              "      <td>-1.946198</td>\n",
              "      <td>-3.686203</td>\n",
              "    </tr>\n",
              "  </tbody>\n",
              "</table>\n",
              "<p>305 rows × 3 columns</p>\n",
              "</div>"
            ],
            "text/plain": [
              "                   GLD  GLD First Difference  Seasonal First Difference\n",
              "Date                                                                   \n",
              "2022-01-03  110.470001              0.860000                   1.639999\n",
              "2022-01-04  110.860001              0.390000                   3.520005\n",
              "2022-01-05  112.580002              1.720001                   4.529999\n",
              "2022-01-06  111.750000             -0.830002                   3.160004\n",
              "2022-01-09  112.669998              0.919998                   4.879997\n",
              "...                ...                   ...                        ...\n",
              "2023-05-08  124.589996              0.019996                  -3.160004\n",
              "2023-05-09  124.330002             -0.259994                  -3.519996\n",
              "2023-05-10  125.180000              0.849998                  -2.419998\n",
              "2023-05-14  124.489998             -0.690002                  -1.130005\n",
              "2023-05-16  122.543800             -1.946198                  -3.686203\n",
              "\n",
              "[305 rows x 3 columns]"
            ]
          },
          "execution_count": 73,
          "metadata": {},
          "output_type": "execute_result"
        }
      ],
      "source": [
        "test_data_fixed"
      ]
    },
    {
      "cell_type": "code",
      "execution_count": null,
      "metadata": {
        "id": "o_yb3A1Ngn8E"
      },
      "outputs": [],
      "source": [
        "from statsmodels.tsa.arima.model import ARIMA"
      ]
    },
    {
      "cell_type": "code",
      "execution_count": null,
      "metadata": {
        "id": "L4iq1bY5mKac",
        "outputId": "1e0828dd-3e8c-47b2-c603-492bd637931b"
      },
      "outputs": [
        {
          "data": {
            "text/html": [
              "<div>\n",
              "<style scoped>\n",
              "    .dataframe tbody tr th:only-of-type {\n",
              "        vertical-align: middle;\n",
              "    }\n",
              "\n",
              "    .dataframe tbody tr th {\n",
              "        vertical-align: top;\n",
              "    }\n",
              "\n",
              "    .dataframe thead th {\n",
              "        text-align: right;\n",
              "    }\n",
              "</style>\n",
              "<table border=\"1\" class=\"dataframe\">\n",
              "  <thead>\n",
              "    <tr style=\"text-align: right;\">\n",
              "      <th></th>\n",
              "      <th>GLD</th>\n",
              "      <th>GLD First Difference</th>\n",
              "      <th>Seasonal First Difference</th>\n",
              "    </tr>\n",
              "    <tr>\n",
              "      <th>Date</th>\n",
              "      <th></th>\n",
              "      <th></th>\n",
              "      <th></th>\n",
              "    </tr>\n",
              "  </thead>\n",
              "  <tbody>\n",
              "    <tr>\n",
              "      <th>2013-01-02</th>\n",
              "      <td>84.860001</td>\n",
              "      <td>NaN</td>\n",
              "      <td>NaN</td>\n",
              "    </tr>\n",
              "    <tr>\n",
              "      <th>2013-01-03</th>\n",
              "      <td>85.570000</td>\n",
              "      <td>0.709999</td>\n",
              "      <td>NaN</td>\n",
              "    </tr>\n",
              "    <tr>\n",
              "      <th>2013-01-04</th>\n",
              "      <td>85.129997</td>\n",
              "      <td>-0.440003</td>\n",
              "      <td>NaN</td>\n",
              "    </tr>\n",
              "    <tr>\n",
              "      <th>2013-01-07</th>\n",
              "      <td>84.769997</td>\n",
              "      <td>-0.360000</td>\n",
              "      <td>NaN</td>\n",
              "    </tr>\n",
              "    <tr>\n",
              "      <th>2013-01-08</th>\n",
              "      <td>86.779999</td>\n",
              "      <td>2.010002</td>\n",
              "      <td>NaN</td>\n",
              "    </tr>\n",
              "    <tr>\n",
              "      <th>...</th>\n",
              "      <td>...</td>\n",
              "      <td>...</td>\n",
              "      <td>...</td>\n",
              "    </tr>\n",
              "    <tr>\n",
              "      <th>2016-12-23</th>\n",
              "      <td>107.930000</td>\n",
              "      <td>0.340004</td>\n",
              "      <td>-3.900002</td>\n",
              "    </tr>\n",
              "    <tr>\n",
              "      <th>2016-12-27</th>\n",
              "      <td>108.559998</td>\n",
              "      <td>0.629998</td>\n",
              "      <td>-3.010002</td>\n",
              "    </tr>\n",
              "    <tr>\n",
              "      <th>2016-12-28</th>\n",
              "      <td>108.860001</td>\n",
              "      <td>0.300003</td>\n",
              "      <td>-1.540001</td>\n",
              "    </tr>\n",
              "    <tr>\n",
              "      <th>2016-12-29</th>\n",
              "      <td>110.290001</td>\n",
              "      <td>1.430000</td>\n",
              "      <td>-0.529999</td>\n",
              "    </tr>\n",
              "    <tr>\n",
              "      <th>2016-12-30</th>\n",
              "      <td>109.610001</td>\n",
              "      <td>-0.680000</td>\n",
              "      <td>-0.839996</td>\n",
              "    </tr>\n",
              "  </tbody>\n",
              "</table>\n",
              "<p>1984 rows × 3 columns</p>\n",
              "</div>"
            ],
            "text/plain": [
              "                   GLD  GLD First Difference  Seasonal First Difference\n",
              "Date                                                                   \n",
              "2013-01-02   84.860001                   NaN                        NaN\n",
              "2013-01-03   85.570000              0.709999                        NaN\n",
              "2013-01-04   85.129997             -0.440003                        NaN\n",
              "2013-01-07   84.769997             -0.360000                        NaN\n",
              "2013-01-08   86.779999              2.010002                        NaN\n",
              "...                ...                   ...                        ...\n",
              "2016-12-23  107.930000              0.340004                  -3.900002\n",
              "2016-12-27  108.559998              0.629998                  -3.010002\n",
              "2016-12-28  108.860001              0.300003                  -1.540001\n",
              "2016-12-29  110.290001              1.430000                  -0.529999\n",
              "2016-12-30  109.610001             -0.680000                  -0.839996\n",
              "\n",
              "[1984 rows x 3 columns]"
            ]
          },
          "execution_count": 85,
          "metadata": {},
          "output_type": "execute_result"
        }
      ],
      "source": [
        "train_data_fixed"
      ]
    },
    {
      "cell_type": "code",
      "execution_count": null,
      "metadata": {
        "id": "0fFPrTLvmKac",
        "outputId": "6767f984-55f6-4c78-c43d-bc15f2ef809c"
      },
      "outputs": [
        {
          "name": "stderr",
          "output_type": "stream",
          "text": [
            "C:\\Users\\vaish\\AppData\\Local\\Programs\\Python\\Python312\\Lib\\site-packages\\statsmodels\\tsa\\base\\tsa_model.py:473: ValueWarning: A date index has been provided, but it has no associated frequency information and so will be ignored when e.g. forecasting.\n",
            "  self._init_dates(dates, freq)\n",
            "C:\\Users\\vaish\\AppData\\Local\\Programs\\Python\\Python312\\Lib\\site-packages\\statsmodels\\tsa\\base\\tsa_model.py:473: ValueWarning: A date index has been provided, but it is not monotonic and so will be ignored when e.g. forecasting.\n",
            "  self._init_dates(dates, freq)\n",
            "C:\\Users\\vaish\\AppData\\Local\\Programs\\Python\\Python312\\Lib\\site-packages\\statsmodels\\tsa\\base\\tsa_model.py:473: ValueWarning: A date index has been provided, but it has no associated frequency information and so will be ignored when e.g. forecasting.\n",
            "  self._init_dates(dates, freq)\n",
            "C:\\Users\\vaish\\AppData\\Local\\Programs\\Python\\Python312\\Lib\\site-packages\\statsmodels\\tsa\\base\\tsa_model.py:473: ValueWarning: A date index has been provided, but it is not monotonic and so will be ignored when e.g. forecasting.\n",
            "  self._init_dates(dates, freq)\n",
            "C:\\Users\\vaish\\AppData\\Local\\Programs\\Python\\Python312\\Lib\\site-packages\\statsmodels\\tsa\\base\\tsa_model.py:473: ValueWarning: A date index has been provided, but it has no associated frequency information and so will be ignored when e.g. forecasting.\n",
            "  self._init_dates(dates, freq)\n",
            "C:\\Users\\vaish\\AppData\\Local\\Programs\\Python\\Python312\\Lib\\site-packages\\statsmodels\\tsa\\base\\tsa_model.py:473: ValueWarning: A date index has been provided, but it is not monotonic and so will be ignored when e.g. forecasting.\n",
            "  self._init_dates(dates, freq)\n"
          ]
        }
      ],
      "source": [
        "model_ARIMA = ARIMA(train_data_fixed['GLD'], order=(10, 2, 4))"
      ]
    },
    {
      "cell_type": "code",
      "execution_count": null,
      "metadata": {
        "id": "VhTRYIgFmKac",
        "outputId": "e642e0af-bf84-4116-955a-e2d710d3ee5a"
      },
      "outputs": [
        {
          "name": "stderr",
          "output_type": "stream",
          "text": [
            "C:\\Users\\vaish\\AppData\\Local\\Programs\\Python\\Python312\\Lib\\site-packages\\statsmodels\\tsa\\statespace\\sarimax.py:966: UserWarning: Non-stationary starting autoregressive parameters found. Using zeros as starting parameters.\n",
            "  warn('Non-stationary starting autoregressive parameters'\n",
            "C:\\Users\\vaish\\AppData\\Local\\Programs\\Python\\Python312\\Lib\\site-packages\\statsmodels\\tsa\\statespace\\sarimax.py:978: UserWarning: Non-invertible starting MA parameters found. Using zeros as starting parameters.\n",
            "  warn('Non-invertible starting MA parameters found.'\n",
            "C:\\Users\\vaish\\AppData\\Local\\Programs\\Python\\Python312\\Lib\\site-packages\\statsmodels\\base\\model.py:607: ConvergenceWarning: Maximum Likelihood optimization failed to converge. Check mle_retvals\n",
            "  warnings.warn(\"Maximum Likelihood optimization failed to \"\n"
          ]
        }
      ],
      "source": [
        "model_Arima_fit = model_ARIMA.fit()"
      ]
    },
    {
      "cell_type": "code",
      "execution_count": null,
      "metadata": {
        "id": "Ds8OIWxjmKac",
        "outputId": "30c61fe1-3b0f-4a2b-fede-08922b8d5862"
      },
      "outputs": [
        {
          "data": {
            "text/html": [
              "<table class=\"simpletable\">\n",
              "<caption>SARIMAX Results</caption>\n",
              "<tr>\n",
              "  <th>Dep. Variable:</th>          <td>GLD</td>       <th>  No. Observations:  </th>   <td>1984</td>   \n",
              "</tr>\n",
              "<tr>\n",
              "  <th>Model:</th>            <td>ARIMA(10, 2, 4)</td> <th>  Log Likelihood     </th> <td>-3758.263</td>\n",
              "</tr>\n",
              "<tr>\n",
              "  <th>Date:</th>            <td>Sun, 12 May 2024</td> <th>  AIC                </th> <td>7546.526</td> \n",
              "</tr>\n",
              "<tr>\n",
              "  <th>Time:</th>                <td>18:00:12</td>     <th>  BIC                </th> <td>7630.404</td> \n",
              "</tr>\n",
              "<tr>\n",
              "  <th>Sample:</th>                  <td>0</td>        <th>  HQIC               </th> <td>7577.338</td> \n",
              "</tr>\n",
              "<tr>\n",
              "  <th></th>                      <td> - 1984</td>     <th>                     </th>     <td> </td>    \n",
              "</tr>\n",
              "<tr>\n",
              "  <th>Covariance Type:</th>        <td>opg</td>       <th>                     </th>     <td> </td>    \n",
              "</tr>\n",
              "</table>\n",
              "<table class=\"simpletable\">\n",
              "<tr>\n",
              "     <td></td>       <th>coef</th>     <th>std err</th>      <th>z</th>      <th>P>|z|</th>  <th>[0.025</th>    <th>0.975]</th>  \n",
              "</tr>\n",
              "<tr>\n",
              "  <th>ar.L1</th>  <td>   -1.8235</td> <td>    0.038</td> <td>  -48.300</td> <td> 0.000</td> <td>   -1.898</td> <td>   -1.750</td>\n",
              "</tr>\n",
              "<tr>\n",
              "  <th>ar.L2</th>  <td>   -1.7743</td> <td>    0.063</td> <td>  -28.195</td> <td> 0.000</td> <td>   -1.898</td> <td>   -1.651</td>\n",
              "</tr>\n",
              "<tr>\n",
              "  <th>ar.L3</th>  <td>   -0.9775</td> <td>    0.061</td> <td>  -15.938</td> <td> 0.000</td> <td>   -1.098</td> <td>   -0.857</td>\n",
              "</tr>\n",
              "<tr>\n",
              "  <th>ar.L4</th>  <td>   -0.0745</td> <td>    0.054</td> <td>   -1.391</td> <td> 0.164</td> <td>   -0.179</td> <td>    0.030</td>\n",
              "</tr>\n",
              "<tr>\n",
              "  <th>ar.L5</th>  <td>   -0.0253</td> <td>    0.055</td> <td>   -0.460</td> <td> 0.645</td> <td>   -0.133</td> <td>    0.082</td>\n",
              "</tr>\n",
              "<tr>\n",
              "  <th>ar.L6</th>  <td>    0.0210</td> <td>    0.056</td> <td>    0.375</td> <td> 0.707</td> <td>   -0.089</td> <td>    0.131</td>\n",
              "</tr>\n",
              "<tr>\n",
              "  <th>ar.L7</th>  <td>    0.0502</td> <td>    0.055</td> <td>    0.915</td> <td> 0.360</td> <td>   -0.057</td> <td>    0.158</td>\n",
              "</tr>\n",
              "<tr>\n",
              "  <th>ar.L8</th>  <td>    0.0006</td> <td>    0.052</td> <td>    0.011</td> <td> 0.991</td> <td>   -0.101</td> <td>    0.102</td>\n",
              "</tr>\n",
              "<tr>\n",
              "  <th>ar.L9</th>  <td>   -0.0575</td> <td>    0.040</td> <td>   -1.441</td> <td> 0.150</td> <td>   -0.136</td> <td>    0.021</td>\n",
              "</tr>\n",
              "<tr>\n",
              "  <th>ar.L10</th> <td>   -0.0225</td> <td>    0.020</td> <td>   -1.107</td> <td> 0.269</td> <td>   -0.062</td> <td>    0.017</td>\n",
              "</tr>\n",
              "<tr>\n",
              "  <th>ma.L1</th>  <td>    0.7951</td> <td>    0.037</td> <td>   21.227</td> <td> 0.000</td> <td>    0.722</td> <td>    0.868</td>\n",
              "</tr>\n",
              "<tr>\n",
              "  <th>ma.L2</th>  <td>   -0.0501</td> <td>    0.040</td> <td>   -1.265</td> <td> 0.206</td> <td>   -0.128</td> <td>    0.028</td>\n",
              "</tr>\n",
              "<tr>\n",
              "  <th>ma.L3</th>  <td>   -0.8243</td> <td>    0.039</td> <td>  -21.290</td> <td> 0.000</td> <td>   -0.900</td> <td>   -0.748</td>\n",
              "</tr>\n",
              "<tr>\n",
              "  <th>ma.L4</th>  <td>   -0.9201</td> <td>    0.038</td> <td>  -24.225</td> <td> 0.000</td> <td>   -0.995</td> <td>   -0.846</td>\n",
              "</tr>\n",
              "<tr>\n",
              "  <th>sigma2</th> <td>    2.5877</td> <td>    0.054</td> <td>   47.690</td> <td> 0.000</td> <td>    2.481</td> <td>    2.694</td>\n",
              "</tr>\n",
              "</table>\n",
              "<table class=\"simpletable\">\n",
              "<tr>\n",
              "  <th>Ljung-Box (L1) (Q):</th>     <td>0.01</td> <th>  Jarque-Bera (JB):  </th> <td>17928.11</td>\n",
              "</tr>\n",
              "<tr>\n",
              "  <th>Prob(Q):</th>                <td>0.94</td> <th>  Prob(JB):          </th>   <td>0.00</td>  \n",
              "</tr>\n",
              "<tr>\n",
              "  <th>Heteroskedasticity (H):</th> <td>0.59</td> <th>  Skew:              </th>   <td>-1.20</td> \n",
              "</tr>\n",
              "<tr>\n",
              "  <th>Prob(H) (two-sided):</th>    <td>0.00</td> <th>  Kurtosis:          </th>   <td>17.54</td> \n",
              "</tr>\n",
              "</table><br/><br/>Warnings:<br/>[1] Covariance matrix calculated using the outer product of gradients (complex-step)."
            ],
            "text/latex": [
              "\\begin{center}\n",
              "\\begin{tabular}{lclc}\n",
              "\\toprule\n",
              "\\textbf{Dep. Variable:}          &       GLD        & \\textbf{  No. Observations:  } &    1984     \\\\\n",
              "\\textbf{Model:}                  & ARIMA(10, 2, 4)  & \\textbf{  Log Likelihood     } & -3758.263   \\\\\n",
              "\\textbf{Date:}                   & Sun, 12 May 2024 & \\textbf{  AIC                } &  7546.526   \\\\\n",
              "\\textbf{Time:}                   &     18:00:12     & \\textbf{  BIC                } &  7630.404   \\\\\n",
              "\\textbf{Sample:}                 &        0         & \\textbf{  HQIC               } &  7577.338   \\\\\n",
              "\\textbf{}                        &      - 1984      & \\textbf{                     } &             \\\\\n",
              "\\textbf{Covariance Type:}        &       opg        & \\textbf{                     } &             \\\\\n",
              "\\bottomrule\n",
              "\\end{tabular}\n",
              "\\begin{tabular}{lcccccc}\n",
              "                & \\textbf{coef} & \\textbf{std err} & \\textbf{z} & \\textbf{P$> |$z$|$} & \\textbf{[0.025} & \\textbf{0.975]}  \\\\\n",
              "\\midrule\n",
              "\\textbf{ar.L1}  &      -1.8235  &        0.038     &   -48.300  &         0.000        &       -1.898    &       -1.750     \\\\\n",
              "\\textbf{ar.L2}  &      -1.7743  &        0.063     &   -28.195  &         0.000        &       -1.898    &       -1.651     \\\\\n",
              "\\textbf{ar.L3}  &      -0.9775  &        0.061     &   -15.938  &         0.000        &       -1.098    &       -0.857     \\\\\n",
              "\\textbf{ar.L4}  &      -0.0745  &        0.054     &    -1.391  &         0.164        &       -0.179    &        0.030     \\\\\n",
              "\\textbf{ar.L5}  &      -0.0253  &        0.055     &    -0.460  &         0.645        &       -0.133    &        0.082     \\\\\n",
              "\\textbf{ar.L6}  &       0.0210  &        0.056     &     0.375  &         0.707        &       -0.089    &        0.131     \\\\\n",
              "\\textbf{ar.L7}  &       0.0502  &        0.055     &     0.915  &         0.360        &       -0.057    &        0.158     \\\\\n",
              "\\textbf{ar.L8}  &       0.0006  &        0.052     &     0.011  &         0.991        &       -0.101    &        0.102     \\\\\n",
              "\\textbf{ar.L9}  &      -0.0575  &        0.040     &    -1.441  &         0.150        &       -0.136    &        0.021     \\\\\n",
              "\\textbf{ar.L10} &      -0.0225  &        0.020     &    -1.107  &         0.269        &       -0.062    &        0.017     \\\\\n",
              "\\textbf{ma.L1}  &       0.7951  &        0.037     &    21.227  &         0.000        &        0.722    &        0.868     \\\\\n",
              "\\textbf{ma.L2}  &      -0.0501  &        0.040     &    -1.265  &         0.206        &       -0.128    &        0.028     \\\\\n",
              "\\textbf{ma.L3}  &      -0.8243  &        0.039     &   -21.290  &         0.000        &       -0.900    &       -0.748     \\\\\n",
              "\\textbf{ma.L4}  &      -0.9201  &        0.038     &   -24.225  &         0.000        &       -0.995    &       -0.846     \\\\\n",
              "\\textbf{sigma2} &       2.5877  &        0.054     &    47.690  &         0.000        &        2.481    &        2.694     \\\\\n",
              "\\bottomrule\n",
              "\\end{tabular}\n",
              "\\begin{tabular}{lclc}\n",
              "\\textbf{Ljung-Box (L1) (Q):}     & 0.01 & \\textbf{  Jarque-Bera (JB):  } & 17928.11  \\\\\n",
              "\\textbf{Prob(Q):}                & 0.94 & \\textbf{  Prob(JB):          } &   0.00    \\\\\n",
              "\\textbf{Heteroskedasticity (H):} & 0.59 & \\textbf{  Skew:              } &  -1.20    \\\\\n",
              "\\textbf{Prob(H) (two-sided):}    & 0.00 & \\textbf{  Kurtosis:          } &  17.54    \\\\\n",
              "\\bottomrule\n",
              "\\end{tabular}\n",
              "%\\caption{SARIMAX Results}\n",
              "\\end{center}\n",
              "\n",
              "Warnings: \\newline\n",
              " [1] Covariance matrix calculated using the outer product of gradients (complex-step)."
            ],
            "text/plain": [
              "<class 'statsmodels.iolib.summary.Summary'>\n",
              "\"\"\"\n",
              "                               SARIMAX Results                                \n",
              "==============================================================================\n",
              "Dep. Variable:                    GLD   No. Observations:                 1984\n",
              "Model:                ARIMA(10, 2, 4)   Log Likelihood               -3758.263\n",
              "Date:                Sun, 12 May 2024   AIC                           7546.526\n",
              "Time:                        18:00:12   BIC                           7630.404\n",
              "Sample:                             0   HQIC                          7577.338\n",
              "                               - 1984                                         \n",
              "Covariance Type:                  opg                                         \n",
              "==============================================================================\n",
              "                 coef    std err          z      P>|z|      [0.025      0.975]\n",
              "------------------------------------------------------------------------------\n",
              "ar.L1         -1.8235      0.038    -48.300      0.000      -1.898      -1.750\n",
              "ar.L2         -1.7743      0.063    -28.195      0.000      -1.898      -1.651\n",
              "ar.L3         -0.9775      0.061    -15.938      0.000      -1.098      -0.857\n",
              "ar.L4         -0.0745      0.054     -1.391      0.164      -0.179       0.030\n",
              "ar.L5         -0.0253      0.055     -0.460      0.645      -0.133       0.082\n",
              "ar.L6          0.0210      0.056      0.375      0.707      -0.089       0.131\n",
              "ar.L7          0.0502      0.055      0.915      0.360      -0.057       0.158\n",
              "ar.L8          0.0006      0.052      0.011      0.991      -0.101       0.102\n",
              "ar.L9         -0.0575      0.040     -1.441      0.150      -0.136       0.021\n",
              "ar.L10        -0.0225      0.020     -1.107      0.269      -0.062       0.017\n",
              "ma.L1          0.7951      0.037     21.227      0.000       0.722       0.868\n",
              "ma.L2         -0.0501      0.040     -1.265      0.206      -0.128       0.028\n",
              "ma.L3         -0.8243      0.039    -21.290      0.000      -0.900      -0.748\n",
              "ma.L4         -0.9201      0.038    -24.225      0.000      -0.995      -0.846\n",
              "sigma2         2.5877      0.054     47.690      0.000       2.481       2.694\n",
              "===================================================================================\n",
              "Ljung-Box (L1) (Q):                   0.01   Jarque-Bera (JB):             17928.11\n",
              "Prob(Q):                              0.94   Prob(JB):                         0.00\n",
              "Heteroskedasticity (H):               0.59   Skew:                            -1.20\n",
              "Prob(H) (two-sided):                  0.00   Kurtosis:                        17.54\n",
              "===================================================================================\n",
              "\n",
              "Warnings:\n",
              "[1] Covariance matrix calculated using the outer product of gradients (complex-step).\n",
              "\"\"\""
            ]
          },
          "execution_count": 90,
          "metadata": {},
          "output_type": "execute_result"
        }
      ],
      "source": [
        "model_Arima_fit.summary()"
      ]
    },
    {
      "cell_type": "code",
      "execution_count": null,
      "metadata": {
        "id": "FlNtPcU6mKac",
        "outputId": "c84ec5c7-a6da-4311-869f-37ab52f4eb46"
      },
      "outputs": [
        {
          "name": "stdout",
          "output_type": "stream",
          "text": [
            "2022-01-03 00:00:00\n",
            "2023-05-16 00:00:00\n"
          ]
        }
      ],
      "source": [
        "print(pred_start_date)\n",
        "print(pred_end_date)"
      ]
    },
    {
      "cell_type": "code",
      "execution_count": null,
      "metadata": {
        "id": "9Vs5kO_vmKac",
        "outputId": "8a0316b5-837f-4c1b-ac8d-500e20d9e436"
      },
      "outputs": [
        {
          "data": {
            "text/plain": [
              "<Axes: ylabel='Density'>"
            ]
          },
          "execution_count": 95,
          "metadata": {},
          "output_type": "execute_result"
        },
        {
          "data": {
            "image/png": "[encoded data removed]",
            "text/plain": [
              "<Figure size 640x480 with 1 Axes>"
            ]
          },
          "metadata": {},
          "output_type": "display_data"
        }
      ],
      "source": [
        "model_Arima_fit.resid.plot(kind='kde')"
      ]
    },
    {
      "cell_type": "code",
      "execution_count": null,
      "metadata": {
        "id": "MVFWj9RlmKac"
      },
      "outputs": [],
      "source": []
    }
  ],
  "metadata": {
    "colab": {
      "provenance": []
    },
    "kernelspec": {
      "display_name": "Python 3 (ipykernel)",
      "language": "python",
      "name": "python3"
    },
    "language_info": {
      "codemirror_mode": {
        "name": "ipython",
        "version": 3
      },
      "file_extension": ".py",
      "mimetype": "text/x-python",
      "name": "python",
      "nbconvert_exporter": "python",
      "pygments_lexer": "ipython3",
      "version": "3.12.3"
    }
  },
  "nbformat": 4,
  "nbformat_minor": 0
}